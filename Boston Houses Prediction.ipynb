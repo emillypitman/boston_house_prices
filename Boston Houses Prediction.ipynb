{
 "cells": [
  {
   "cell_type": "markdown",
   "id": "suitable-engine",
   "metadata": {},
   "source": [
    "# 0 - Importando bibliotecas"
   ]
  },
  {
   "cell_type": "code",
   "execution_count": 303,
   "id": "vocational-august",
   "metadata": {},
   "outputs": [],
   "source": [
    "import pandas as pd\n",
    "import numpy as np\n",
    "import matplotlib.pyplot as plt\n",
    "import seaborn as sns\n",
    "import warnings\n",
    "from sklearn.datasets import load_boston\n",
    "import random\n",
    "\n",
    "# machine learning\n",
    "from sklearn.ensemble import RandomForestRegressor\n",
    "from sklearn.tree import DecisionTreeRegressor\n",
    "from sklearn.neighbors import KNeighborsRegressor\n",
    "from sklearn.linear_model import LinearRegression\n",
    "\n",
    "# preprocessing\n",
    "from sklearn.impute import KNNImputer\n",
    "from sklearn.preprocessing import StandardScaler\n",
    "\n",
    "# auxiliares modelagem\n",
    "from sklearn.model_selection import train_test_split\n",
    "from sklearn.model_selection import KFold\n",
    "from sklearn.metrics import r2_score, mean_squared_error\n",
    "from sklearn.model_selection import GridSearchCV, RandomizedSearchCV\n",
    "from sklearn.feature_selection import SelectKBest, RFE\n",
    "\n",
    "\n",
    "warnings.filterwarnings('ignore')\n",
    "\n",
    "plt.style.use('seaborn-pastel')\n",
    "\n",
    "%matplotlib inline\n"
   ]
  },
  {
   "cell_type": "markdown",
   "id": "tender-grove",
   "metadata": {},
   "source": [
    "# Funções helpers"
   ]
  },
  {
   "cell_type": "code",
   "execution_count": 173,
   "id": "labeled-subdivision",
   "metadata": {},
   "outputs": [],
   "source": [
    "def generate_random_missings(df, target, number_of_columns=5):\n",
    "    for _ in range(number_of_columns):\n",
    "        col = random.choice(df.columns)\n",
    "        if col == target:\n",
    "            pass\n",
    "        else:\n",
    "            frac = random.uniform(0, 0.4)\n",
    "            df.loc[df.sample(frac=frac).index, col] = pd.np.nan\n",
    "    return df"
   ]
  },
  {
   "cell_type": "markdown",
   "id": "figured-portugal",
   "metadata": {},
   "source": [
    "# 1 - Importando dados"
   ]
  },
  {
   "cell_type": "code",
   "execution_count": 174,
   "id": "applicable-estonia",
   "metadata": {},
   "outputs": [],
   "source": [
    "data = load_boston()"
   ]
  },
  {
   "cell_type": "code",
   "execution_count": 175,
   "id": "annual-socket",
   "metadata": {},
   "outputs": [],
   "source": [
    "matrix = data['data']\n",
    "target = data['target']\n",
    "features = data['feature_names']"
   ]
  },
  {
   "cell_type": "code",
   "execution_count": 176,
   "id": "lesser-papua",
   "metadata": {},
   "outputs": [],
   "source": [
    "df = pd.DataFrame(data = matrix, columns = features)\n",
    "df['price'] = target"
   ]
  },
  {
   "cell_type": "code",
   "execution_count": 177,
   "id": "declared-world",
   "metadata": {},
   "outputs": [
    {
     "data": {
      "text/html": [
       "<div>\n",
       "<style scoped>\n",
       "    .dataframe tbody tr th:only-of-type {\n",
       "        vertical-align: middle;\n",
       "    }\n",
       "\n",
       "    .dataframe tbody tr th {\n",
       "        vertical-align: top;\n",
       "    }\n",
       "\n",
       "    .dataframe thead th {\n",
       "        text-align: right;\n",
       "    }\n",
       "</style>\n",
       "<table border=\"1\" class=\"dataframe\">\n",
       "  <thead>\n",
       "    <tr style=\"text-align: right;\">\n",
       "      <th></th>\n",
       "      <th>CRIM</th>\n",
       "      <th>ZN</th>\n",
       "      <th>INDUS</th>\n",
       "      <th>CHAS</th>\n",
       "      <th>NOX</th>\n",
       "      <th>RM</th>\n",
       "      <th>AGE</th>\n",
       "      <th>DIS</th>\n",
       "      <th>RAD</th>\n",
       "      <th>TAX</th>\n",
       "      <th>PTRATIO</th>\n",
       "      <th>B</th>\n",
       "      <th>LSTAT</th>\n",
       "      <th>price</th>\n",
       "    </tr>\n",
       "  </thead>\n",
       "  <tbody>\n",
       "    <tr>\n",
       "      <th>0</th>\n",
       "      <td>0.00632</td>\n",
       "      <td>18.0</td>\n",
       "      <td>2.31</td>\n",
       "      <td>0.0</td>\n",
       "      <td>0.538</td>\n",
       "      <td>6.575</td>\n",
       "      <td>65.2</td>\n",
       "      <td>4.0900</td>\n",
       "      <td>1.0</td>\n",
       "      <td>296.0</td>\n",
       "      <td>15.3</td>\n",
       "      <td>396.90</td>\n",
       "      <td>4.98</td>\n",
       "      <td>24.0</td>\n",
       "    </tr>\n",
       "    <tr>\n",
       "      <th>1</th>\n",
       "      <td>0.02731</td>\n",
       "      <td>0.0</td>\n",
       "      <td>7.07</td>\n",
       "      <td>0.0</td>\n",
       "      <td>0.469</td>\n",
       "      <td>6.421</td>\n",
       "      <td>78.9</td>\n",
       "      <td>4.9671</td>\n",
       "      <td>2.0</td>\n",
       "      <td>242.0</td>\n",
       "      <td>17.8</td>\n",
       "      <td>396.90</td>\n",
       "      <td>9.14</td>\n",
       "      <td>21.6</td>\n",
       "    </tr>\n",
       "    <tr>\n",
       "      <th>2</th>\n",
       "      <td>0.02729</td>\n",
       "      <td>0.0</td>\n",
       "      <td>7.07</td>\n",
       "      <td>0.0</td>\n",
       "      <td>0.469</td>\n",
       "      <td>7.185</td>\n",
       "      <td>61.1</td>\n",
       "      <td>4.9671</td>\n",
       "      <td>2.0</td>\n",
       "      <td>242.0</td>\n",
       "      <td>17.8</td>\n",
       "      <td>392.83</td>\n",
       "      <td>4.03</td>\n",
       "      <td>34.7</td>\n",
       "    </tr>\n",
       "    <tr>\n",
       "      <th>3</th>\n",
       "      <td>0.03237</td>\n",
       "      <td>0.0</td>\n",
       "      <td>2.18</td>\n",
       "      <td>0.0</td>\n",
       "      <td>0.458</td>\n",
       "      <td>6.998</td>\n",
       "      <td>45.8</td>\n",
       "      <td>6.0622</td>\n",
       "      <td>3.0</td>\n",
       "      <td>222.0</td>\n",
       "      <td>18.7</td>\n",
       "      <td>394.63</td>\n",
       "      <td>2.94</td>\n",
       "      <td>33.4</td>\n",
       "    </tr>\n",
       "    <tr>\n",
       "      <th>4</th>\n",
       "      <td>0.06905</td>\n",
       "      <td>0.0</td>\n",
       "      <td>2.18</td>\n",
       "      <td>0.0</td>\n",
       "      <td>0.458</td>\n",
       "      <td>7.147</td>\n",
       "      <td>54.2</td>\n",
       "      <td>6.0622</td>\n",
       "      <td>3.0</td>\n",
       "      <td>222.0</td>\n",
       "      <td>18.7</td>\n",
       "      <td>396.90</td>\n",
       "      <td>5.33</td>\n",
       "      <td>36.2</td>\n",
       "    </tr>\n",
       "  </tbody>\n",
       "</table>\n",
       "</div>"
      ],
      "text/plain": [
       "      CRIM    ZN  INDUS  CHAS    NOX     RM   AGE     DIS  RAD    TAX  \\\n",
       "0  0.00632  18.0   2.31   0.0  0.538  6.575  65.2  4.0900  1.0  296.0   \n",
       "1  0.02731   0.0   7.07   0.0  0.469  6.421  78.9  4.9671  2.0  242.0   \n",
       "2  0.02729   0.0   7.07   0.0  0.469  7.185  61.1  4.9671  2.0  242.0   \n",
       "3  0.03237   0.0   2.18   0.0  0.458  6.998  45.8  6.0622  3.0  222.0   \n",
       "4  0.06905   0.0   2.18   0.0  0.458  7.147  54.2  6.0622  3.0  222.0   \n",
       "\n",
       "   PTRATIO       B  LSTAT  price  \n",
       "0     15.3  396.90   4.98   24.0  \n",
       "1     17.8  396.90   9.14   21.6  \n",
       "2     17.8  392.83   4.03   34.7  \n",
       "3     18.7  394.63   2.94   33.4  \n",
       "4     18.7  396.90   5.33   36.2  "
      ]
     },
     "execution_count": 177,
     "metadata": {},
     "output_type": "execute_result"
    }
   ],
   "source": [
    "df.head()"
   ]
  },
  {
   "cell_type": "code",
   "execution_count": 178,
   "id": "sitting-emphasis",
   "metadata": {},
   "outputs": [
    {
     "name": "stdout",
     "output_type": "stream",
     "text": [
      ".. _boston_dataset:\n",
      "\n",
      "Boston house prices dataset\n",
      "---------------------------\n",
      "\n",
      "**Data Set Characteristics:**  \n",
      "\n",
      "    :Number of Instances: 506 \n",
      "\n",
      "    :Number of Attributes: 13 numeric/categorical predictive. Median Value (attribute 14) is usually the target.\n",
      "\n",
      "    :Attribute Information (in order):\n",
      "        - CRIM     per capita crime rate by town\n",
      "        - ZN       proportion of residential land zoned for lots over 25,000 sq.ft.\n",
      "        - INDUS    proportion of non-retail business acres per town\n",
      "        - CHAS     Charles River dummy variable (= 1 if tract bounds river; 0 otherwise)\n",
      "        - NOX      nitric oxides concentration (parts per 10 million)\n",
      "        - RM       average number of rooms per dwelling\n",
      "        - AGE      proportion of owner-occupied units built prior to 1940\n",
      "        - DIS      weighted distances to five Boston employment centres\n",
      "        - RAD      index of accessibility to radial highways\n",
      "        - TAX      full-value property-tax rate per $10,000\n",
      "        - PTRATIO  pupil-teacher ratio by town\n",
      "        - B        1000(Bk - 0.63)^2 where Bk is the proportion of blacks by town\n",
      "        - LSTAT    % lower status of the population\n",
      "        - MEDV     Median value of owner-occupied homes in $1000's\n",
      "\n",
      "    :Missing Attribute Values: None\n",
      "\n",
      "    :Creator: Harrison, D. and Rubinfeld, D.L.\n",
      "\n",
      "This is a copy of UCI ML housing dataset.\n",
      "https://archive.ics.uci.edu/ml/machine-learning-databases/housing/\n",
      "\n",
      "\n",
      "This dataset was taken from the StatLib library which is maintained at Carnegie Mellon University.\n",
      "\n",
      "The Boston house-price data of Harrison, D. and Rubinfeld, D.L. 'Hedonic\n",
      "prices and the demand for clean air', J. Environ. Economics & Management,\n",
      "vol.5, 81-102, 1978.   Used in Belsley, Kuh & Welsch, 'Regression diagnostics\n",
      "...', Wiley, 1980.   N.B. Various transformations are used in the table on\n",
      "pages 244-261 of the latter.\n",
      "\n",
      "The Boston house-price data has been used in many machine learning papers that address regression\n",
      "problems.   \n",
      "     \n",
      ".. topic:: References\n",
      "\n",
      "   - Belsley, Kuh & Welsch, 'Regression diagnostics: Identifying Influential Data and Sources of Collinearity', Wiley, 1980. 244-261.\n",
      "   - Quinlan,R. (1993). Combining Instance-Based and Model-Based Learning. In Proceedings on the Tenth International Conference of Machine Learning, 236-243, University of Massachusetts, Amherst. Morgan Kaufmann.\n",
      "\n"
     ]
    }
   ],
   "source": [
    "print(data['DESCR'])"
   ]
  },
  {
   "cell_type": "markdown",
   "id": "polyphonic-encoding",
   "metadata": {},
   "source": [
    "### Imputando missings"
   ]
  },
  {
   "cell_type": "code",
   "execution_count": 179,
   "id": "ranking-backup",
   "metadata": {},
   "outputs": [],
   "source": [
    "df = generate_random_missings(df, target = 'price', number_of_columns=5)"
   ]
  },
  {
   "cell_type": "markdown",
   "id": "pointed-heritage",
   "metadata": {},
   "source": [
    "# 2 - Análise Exploratória"
   ]
  },
  {
   "cell_type": "markdown",
   "id": "vanilla-ukraine",
   "metadata": {},
   "source": [
    "## 2.1 Descrição estatística das variáveis"
   ]
  },
  {
   "cell_type": "code",
   "execution_count": 180,
   "id": "remarkable-beverage",
   "metadata": {},
   "outputs": [
    {
     "data": {
      "text/html": [
       "<div>\n",
       "<style scoped>\n",
       "    .dataframe tbody tr th:only-of-type {\n",
       "        vertical-align: middle;\n",
       "    }\n",
       "\n",
       "    .dataframe tbody tr th {\n",
       "        vertical-align: top;\n",
       "    }\n",
       "\n",
       "    .dataframe thead th {\n",
       "        text-align: right;\n",
       "    }\n",
       "</style>\n",
       "<table border=\"1\" class=\"dataframe\">\n",
       "  <thead>\n",
       "    <tr style=\"text-align: right;\">\n",
       "      <th></th>\n",
       "      <th>CRIM</th>\n",
       "      <th>ZN</th>\n",
       "      <th>INDUS</th>\n",
       "      <th>CHAS</th>\n",
       "      <th>NOX</th>\n",
       "      <th>RM</th>\n",
       "      <th>AGE</th>\n",
       "      <th>DIS</th>\n",
       "      <th>RAD</th>\n",
       "      <th>TAX</th>\n",
       "      <th>PTRATIO</th>\n",
       "      <th>B</th>\n",
       "      <th>LSTAT</th>\n",
       "      <th>price</th>\n",
       "    </tr>\n",
       "  </thead>\n",
       "  <tbody>\n",
       "    <tr>\n",
       "      <th>count</th>\n",
       "      <td>506.000000</td>\n",
       "      <td>399.000000</td>\n",
       "      <td>506.000000</td>\n",
       "      <td>506.000000</td>\n",
       "      <td>506.000000</td>\n",
       "      <td>500.000000</td>\n",
       "      <td>506.000000</td>\n",
       "      <td>506.000000</td>\n",
       "      <td>409.000000</td>\n",
       "      <td>506.000000</td>\n",
       "      <td>506.000000</td>\n",
       "      <td>502.000000</td>\n",
       "      <td>506.000000</td>\n",
       "      <td>506.000000</td>\n",
       "    </tr>\n",
       "    <tr>\n",
       "      <th>mean</th>\n",
       "      <td>3.613524</td>\n",
       "      <td>10.926065</td>\n",
       "      <td>11.136779</td>\n",
       "      <td>0.069170</td>\n",
       "      <td>0.554695</td>\n",
       "      <td>6.288484</td>\n",
       "      <td>68.574901</td>\n",
       "      <td>3.795043</td>\n",
       "      <td>9.400978</td>\n",
       "      <td>408.237154</td>\n",
       "      <td>18.455534</td>\n",
       "      <td>356.985538</td>\n",
       "      <td>12.653063</td>\n",
       "      <td>22.532806</td>\n",
       "    </tr>\n",
       "    <tr>\n",
       "      <th>std</th>\n",
       "      <td>8.601545</td>\n",
       "      <td>23.319852</td>\n",
       "      <td>6.860353</td>\n",
       "      <td>0.253994</td>\n",
       "      <td>0.115878</td>\n",
       "      <td>0.702000</td>\n",
       "      <td>28.148861</td>\n",
       "      <td>2.105710</td>\n",
       "      <td>8.645842</td>\n",
       "      <td>168.537116</td>\n",
       "      <td>2.164946</td>\n",
       "      <td>90.960811</td>\n",
       "      <td>7.141062</td>\n",
       "      <td>9.197104</td>\n",
       "    </tr>\n",
       "    <tr>\n",
       "      <th>min</th>\n",
       "      <td>0.006320</td>\n",
       "      <td>0.000000</td>\n",
       "      <td>0.460000</td>\n",
       "      <td>0.000000</td>\n",
       "      <td>0.385000</td>\n",
       "      <td>3.561000</td>\n",
       "      <td>2.900000</td>\n",
       "      <td>1.129600</td>\n",
       "      <td>1.000000</td>\n",
       "      <td>187.000000</td>\n",
       "      <td>12.600000</td>\n",
       "      <td>0.320000</td>\n",
       "      <td>1.730000</td>\n",
       "      <td>5.000000</td>\n",
       "    </tr>\n",
       "    <tr>\n",
       "      <th>25%</th>\n",
       "      <td>0.082045</td>\n",
       "      <td>0.000000</td>\n",
       "      <td>5.190000</td>\n",
       "      <td>0.000000</td>\n",
       "      <td>0.449000</td>\n",
       "      <td>5.886500</td>\n",
       "      <td>45.025000</td>\n",
       "      <td>2.100175</td>\n",
       "      <td>4.000000</td>\n",
       "      <td>279.000000</td>\n",
       "      <td>17.400000</td>\n",
       "      <td>375.377500</td>\n",
       "      <td>6.950000</td>\n",
       "      <td>17.025000</td>\n",
       "    </tr>\n",
       "    <tr>\n",
       "      <th>50%</th>\n",
       "      <td>0.256510</td>\n",
       "      <td>0.000000</td>\n",
       "      <td>9.690000</td>\n",
       "      <td>0.000000</td>\n",
       "      <td>0.538000</td>\n",
       "      <td>6.209000</td>\n",
       "      <td>77.500000</td>\n",
       "      <td>3.207450</td>\n",
       "      <td>5.000000</td>\n",
       "      <td>330.000000</td>\n",
       "      <td>19.050000</td>\n",
       "      <td>391.475000</td>\n",
       "      <td>11.360000</td>\n",
       "      <td>21.200000</td>\n",
       "    </tr>\n",
       "    <tr>\n",
       "      <th>75%</th>\n",
       "      <td>3.677083</td>\n",
       "      <td>0.000000</td>\n",
       "      <td>18.100000</td>\n",
       "      <td>0.000000</td>\n",
       "      <td>0.624000</td>\n",
       "      <td>6.626000</td>\n",
       "      <td>94.075000</td>\n",
       "      <td>5.188425</td>\n",
       "      <td>24.000000</td>\n",
       "      <td>666.000000</td>\n",
       "      <td>20.200000</td>\n",
       "      <td>396.237500</td>\n",
       "      <td>16.955000</td>\n",
       "      <td>25.000000</td>\n",
       "    </tr>\n",
       "    <tr>\n",
       "      <th>max</th>\n",
       "      <td>88.976200</td>\n",
       "      <td>95.000000</td>\n",
       "      <td>27.740000</td>\n",
       "      <td>1.000000</td>\n",
       "      <td>0.871000</td>\n",
       "      <td>8.780000</td>\n",
       "      <td>100.000000</td>\n",
       "      <td>12.126500</td>\n",
       "      <td>24.000000</td>\n",
       "      <td>711.000000</td>\n",
       "      <td>22.000000</td>\n",
       "      <td>396.900000</td>\n",
       "      <td>37.970000</td>\n",
       "      <td>50.000000</td>\n",
       "    </tr>\n",
       "  </tbody>\n",
       "</table>\n",
       "</div>"
      ],
      "text/plain": [
       "             CRIM          ZN       INDUS        CHAS         NOX          RM  \\\n",
       "count  506.000000  399.000000  506.000000  506.000000  506.000000  500.000000   \n",
       "mean     3.613524   10.926065   11.136779    0.069170    0.554695    6.288484   \n",
       "std      8.601545   23.319852    6.860353    0.253994    0.115878    0.702000   \n",
       "min      0.006320    0.000000    0.460000    0.000000    0.385000    3.561000   \n",
       "25%      0.082045    0.000000    5.190000    0.000000    0.449000    5.886500   \n",
       "50%      0.256510    0.000000    9.690000    0.000000    0.538000    6.209000   \n",
       "75%      3.677083    0.000000   18.100000    0.000000    0.624000    6.626000   \n",
       "max     88.976200   95.000000   27.740000    1.000000    0.871000    8.780000   \n",
       "\n",
       "              AGE         DIS         RAD         TAX     PTRATIO           B  \\\n",
       "count  506.000000  506.000000  409.000000  506.000000  506.000000  502.000000   \n",
       "mean    68.574901    3.795043    9.400978  408.237154   18.455534  356.985538   \n",
       "std     28.148861    2.105710    8.645842  168.537116    2.164946   90.960811   \n",
       "min      2.900000    1.129600    1.000000  187.000000   12.600000    0.320000   \n",
       "25%     45.025000    2.100175    4.000000  279.000000   17.400000  375.377500   \n",
       "50%     77.500000    3.207450    5.000000  330.000000   19.050000  391.475000   \n",
       "75%     94.075000    5.188425   24.000000  666.000000   20.200000  396.237500   \n",
       "max    100.000000   12.126500   24.000000  711.000000   22.000000  396.900000   \n",
       "\n",
       "            LSTAT       price  \n",
       "count  506.000000  506.000000  \n",
       "mean    12.653063   22.532806  \n",
       "std      7.141062    9.197104  \n",
       "min      1.730000    5.000000  \n",
       "25%      6.950000   17.025000  \n",
       "50%     11.360000   21.200000  \n",
       "75%     16.955000   25.000000  \n",
       "max     37.970000   50.000000  "
      ]
     },
     "execution_count": 180,
     "metadata": {},
     "output_type": "execute_result"
    }
   ],
   "source": [
    "df.describe()"
   ]
  },
  {
   "cell_type": "markdown",
   "id": "soviet-mumbai",
   "metadata": {},
   "source": [
    "## 2.2 Correlações"
   ]
  },
  {
   "cell_type": "code",
   "execution_count": 184,
   "id": "adjusted-barrel",
   "metadata": {},
   "outputs": [
    {
     "data": {
      "text/plain": [
       "<AxesSubplot:>"
      ]
     },
     "execution_count": 184,
     "metadata": {},
     "output_type": "execute_result"
    },
    {
     "data": {
      "image/png": "[encoded data removed]",
      "text/plain": [
       "<Figure size 864x864 with 2 Axes>"
      ]
     },
     "metadata": {
      "needs_background": "light"
     },
     "output_type": "display_data"
    }
   ],
   "source": [
    "fig = plt.figure(figsize=(12,12))\n",
    "sns.heatmap(data = df.corr(),annot = True)"
   ]
  },
  {
   "cell_type": "markdown",
   "id": "charged-reading",
   "metadata": {},
   "source": [
    "- correlação com price:\n",
    "    - LSTAT - quanto mais pessoas de baixa renda, mais barato a casa\n",
    "    - INDUS - quanto mais industrias, mais barato a casa\n",
    "    - NOX - quanto mais poluição, mais barato a casa\n",
    "    - RM - quanto mais quartos, mais cara a casa\n",
    "    - ...\n",
    "    \n",
    "- multicolinearidade:\n",
    "    - TAX-RAD: o imposto parece aumentar quando a casa é localizada próxima a rodovias\n",
    "    - DIX-NOX: quanto mais distante dos centros, menor a poluição\n",
    "    - AGE-NOX: quanto mais antiga, mais poluída (correlação espúria (quando não há causalidade))\n",
    "    - ..."
   ]
  },
  {
   "cell_type": "code",
   "execution_count": 195,
   "id": "recorded-yugoslavia",
   "metadata": {},
   "outputs": [
    {
     "data": {
      "text/plain": [
       "LSTAT     -0.737663\n",
       "PTRATIO   -0.507787\n",
       "INDUS     -0.483725\n",
       "TAX       -0.468536\n",
       "NOX       -0.427321\n",
       "CRIM      -0.388305\n",
       "RAD       -0.386935\n",
       "AGE       -0.376955\n",
       "CHAS       0.175260\n",
       "DIS        0.249929\n",
       "B          0.331733\n",
       "ZN         0.386681\n",
       "RM         0.699295\n",
       "price      1.000000\n",
       "Name: price, dtype: float64"
      ]
     },
     "execution_count": 195,
     "metadata": {},
     "output_type": "execute_result"
    }
   ],
   "source": [
    "df.corr()['price'].sort_values()"
   ]
  },
  {
   "cell_type": "code",
   "execution_count": 198,
   "id": "early-prize",
   "metadata": {},
   "outputs": [],
   "source": [
    "correlations = ['LSTAT', 'PTRATIO', 'INDUS', 'RM', 'ZN', 'B', 'price']"
   ]
  },
  {
   "cell_type": "code",
   "execution_count": 204,
   "id": "tested-money",
   "metadata": {},
   "outputs": [
    {
     "data": {
      "image/png": "[encoded data removed]",
      "text/plain": [
       "<Figure size 1260x1260 with 35 Axes>"
      ]
     },
     "metadata": {
      "needs_background": "light"
     },
     "output_type": "display_data"
    }
   ],
   "source": [
    "sns.pairplot(df[correlations], corner=True);"
   ]
  },
  {
   "cell_type": "markdown",
   "id": "sapphire-group",
   "metadata": {},
   "source": [
    "## 2.3 Análise Univariada"
   ]
  },
  {
   "cell_type": "code",
   "execution_count": 205,
   "id": "naked-employer",
   "metadata": {},
   "outputs": [
    {
     "data": {
      "image/png": "[encoded data removed]",
      "text/plain": [
       "<Figure size 576x432 with 1 Axes>"
      ]
     },
     "metadata": {
      "needs_background": "light"
     },
     "output_type": "display_data"
    }
   ],
   "source": [
    "fig = plt.figure(figsize=(8,6))\n",
    "sns.boxplot(df['price'])\n",
    "plt.grid()\n",
    "plt.xlabel('Price')\n",
    "#plt.ylabel('')\n",
    "plt.title('Boxplot do price');"
   ]
  },
  {
   "cell_type": "markdown",
   "id": "requested-dylan",
   "metadata": {},
   "source": [
    "# 3 Divisão de treino/teste"
   ]
  },
  {
   "cell_type": "code",
   "execution_count": 211,
   "id": "varying-karen",
   "metadata": {},
   "outputs": [],
   "source": [
    "X_train, X_test, y_train, y_test = train_test_split(\n",
    "    df.drop('price', axis=1), \n",
    "    df['price'], \n",
    "    test_size = 0.2, \n",
    "    random_state = 0\n",
    ")"
   ]
  },
  {
   "cell_type": "markdown",
   "id": "aerial-poultry",
   "metadata": {},
   "source": [
    "# 4 Missings"
   ]
  },
  {
   "cell_type": "code",
   "execution_count": 216,
   "id": "legitimate-strain",
   "metadata": {},
   "outputs": [
    {
     "data": {
      "text/plain": [
       "CRIM        0\n",
       "ZN         84\n",
       "INDUS       0\n",
       "CHAS        0\n",
       "NOX         0\n",
       "RM          4\n",
       "AGE         0\n",
       "DIS         0\n",
       "RAD        78\n",
       "TAX         0\n",
       "PTRATIO     0\n",
       "B           3\n",
       "LSTAT       0\n",
       "dtype: int64"
      ]
     },
     "execution_count": 216,
     "metadata": {},
     "output_type": "execute_result"
    }
   ],
   "source": [
    "X_train.isnull().sum()"
   ]
  },
  {
   "cell_type": "code",
   "execution_count": 217,
   "id": "extra-youth",
   "metadata": {},
   "outputs": [
    {
     "data": {
      "text/plain": [
       "CRIM        0\n",
       "ZN         23\n",
       "INDUS       0\n",
       "CHAS        0\n",
       "NOX         0\n",
       "RM          2\n",
       "AGE         0\n",
       "DIS         0\n",
       "RAD        19\n",
       "TAX         0\n",
       "PTRATIO     0\n",
       "B           1\n",
       "LSTAT       0\n",
       "dtype: int64"
      ]
     },
     "execution_count": 217,
     "metadata": {},
     "output_type": "execute_result"
    }
   ],
   "source": [
    "X_test.isnull().sum()"
   ]
  },
  {
   "cell_type": "markdown",
   "id": "trying-involvement",
   "metadata": {},
   "source": [
    "### Imputação de missings por Knn"
   ]
  },
  {
   "cell_type": "code",
   "execution_count": 218,
   "id": "sapphire-harrison",
   "metadata": {},
   "outputs": [],
   "source": [
    "# criando instância da classe KNNImputer\n",
    "imputer = KNNImputer(n_neighbors=5)\n",
    "\n",
    "# fitando e transformado para o treino\n",
    "train_imputed = imputer.fit_transform(X_train)\n",
    "X_train = pd.DataFrame(data=train_imputed, columns=X_train.columns)\n",
    "\n",
    "# aplicando a transformação para o teste (evitando vazamento de dados)\n",
    "test_imputed = imputer.transform(X_test)\n",
    "X_test = pd.DataFrame(data=test_imputed, columns=X_test.columns)"
   ]
  },
  {
   "cell_type": "markdown",
   "id": "romantic-hebrew",
   "metadata": {},
   "source": [
    "## 5 Scalling"
   ]
  },
  {
   "cell_type": "markdown",
   "id": "fundamental-executive",
   "metadata": {},
   "source": [
    "$ x_{norm} = \\frac{x - x_{mean}}{x_{std}}  $"
   ]
  },
  {
   "cell_type": "code",
   "execution_count": 221,
   "id": "thorough-variety",
   "metadata": {},
   "outputs": [],
   "source": [
    "# criando instância da classe StandardScaler\n",
    "sc = StandardScaler()\n",
    "\n",
    "# fitando e transformando para treino\n",
    "X_train = sc.fit_transform(X_train)\n",
    "\n",
    "# apenas transformando para teste (evitando vazamento de dados)\n",
    "X_test = sc.transform(X_test)"
   ]
  },
  {
   "cell_type": "code",
   "execution_count": 225,
   "id": "trained-restriction",
   "metadata": {},
   "outputs": [
    {
     "data": {
      "text/plain": [
       "Index(['CRIM', 'ZN', 'INDUS', 'CHAS', 'NOX', 'RM', 'AGE', 'DIS', 'RAD', 'TAX',\n",
       "       'PTRATIO', 'B', 'LSTAT'],\n",
       "      dtype='object')"
      ]
     },
     "execution_count": 225,
     "metadata": {},
     "output_type": "execute_result"
    }
   ],
   "source": [
    "df.drop('price', axis=1).columns"
   ]
  },
  {
   "cell_type": "code",
   "execution_count": 226,
   "id": "august-algeria",
   "metadata": {},
   "outputs": [],
   "source": [
    "X_train = pd.DataFrame(X_train, columns = df.drop('price', axis=1).columns)\n",
    "X_test = pd.DataFrame(X_test, columns = df.drop('price', axis=1).columns)"
   ]
  },
  {
   "cell_type": "code",
   "execution_count": 245,
   "id": "featured-electricity",
   "metadata": {},
   "outputs": [],
   "source": [
    "y_train.reset_index(drop=True, inplace=True)\n",
    "y_test.reset_index(drop=True, inplace=True)"
   ]
  },
  {
   "cell_type": "markdown",
   "id": "handy-trademark",
   "metadata": {},
   "source": [
    "# 6 Modelagem"
   ]
  },
  {
   "cell_type": "markdown",
   "id": "regulation-baseline",
   "metadata": {},
   "source": [
    "## 6.1 Modelo Linear"
   ]
  },
  {
   "cell_type": "code",
   "execution_count": 258,
   "id": "spiritual-irish",
   "metadata": {},
   "outputs": [],
   "source": [
    "def cross_validation(model, kf, X_train, y_train):\n",
    "    list_mse_train = []\n",
    "    list_mse_val = []\n",
    "    list_r2_train = []\n",
    "    list_r2_val = []\n",
    "\n",
    "    for indices_train, indices_val in kf.split(X_train):\n",
    "        # iterando sobre os índices de trieno e validação\n",
    "        X_train_, y_train_ = X_train.loc[indices_train, :], y_train.loc[indices_train]\n",
    "        X_val_, y_val_ = X_train.loc[indices_val, :], y_train.loc[indices_val]\n",
    "\n",
    "        # treinando meu modelo no conjunto de treino\n",
    "        model.fit(X_train_, y_train_)\n",
    "\n",
    "        # predizendo resultados em treino e validação\n",
    "        y_pred_train = model.predict(X_train_)\n",
    "        y_pred_val = model.predict(X_val_)\n",
    "\n",
    "        # calculando as métricas\n",
    "        mse_train = mean_squared_error(y_train_, y_pred_train)\n",
    "        mse_val = mean_squared_error(y_val_, y_pred_val)\n",
    "        r2_train = r2_score(y_train_, y_pred_train)\n",
    "        r2_val = r2_score(y_val_, y_pred_val)\n",
    "\n",
    "        # armazenando resultados\n",
    "        list_mse_train.append(mse_train)\n",
    "        list_mse_val.append(mse_val)\n",
    "        list_r2_train.append(r2_train)\n",
    "        list_r2_val.append(r2_val)\n",
    "        \n",
    "    print('MSE no training: {} +- {}'.format(np.mean(list_mse_train), np.std(list_mse_train)))\n",
    "    print('MSE no validation: {} +- {}'.format(np.mean(list_mse_val), np.std(list_mse_val)))\n",
    "    print('r2 no training: {} +- {}'.format(np.mean(list_r2_train), np.std(list_r2_train)))\n",
    "    print('r2 no validation: {} +- {}'.format(np.mean(list_r2_val), np.std(list_r2_val)))"
   ]
  },
  {
   "cell_type": "code",
   "execution_count": 357,
   "id": "criminal-network",
   "metadata": {},
   "outputs": [
    {
     "name": "stdout",
     "output_type": "stream",
     "text": [
      "MSE no training: 18.46219450483712 +- 1.502680674870813\n",
      "MSE no validation: 20.53138084308473 +- 6.046194052291919\n",
      "r2 no training: 0.7832100298762841 +- 0.013411603178966482\n",
      "r2 no validation: 0.7579677709842858 +- 0.04649850104957092\n"
     ]
    }
   ],
   "source": [
    "# criando modelo de regressão linear\n",
    "lr = LinearRegression()\n",
    "\n",
    "# validação cruzada\n",
    "kf = KFold(n_splits=5)\n",
    "\n",
    "cross_validation(lr, kf, X_train, y_train)"
   ]
  },
  {
   "cell_type": "code",
   "execution_count": 358,
   "id": "decreased-consistency",
   "metadata": {},
   "outputs": [
    {
     "name": "stdout",
     "output_type": "stream",
     "text": [
      "R2 no Teste: 0.5853390087369272\n",
      "MSE no Teste: 33.76519725841187\n"
     ]
    }
   ],
   "source": [
    "print(\"R2 no Teste: {}\".format(r2_score(y_test, lr.predict(X_test))))\n",
    "print(\"MSE no Teste: {}\".format(mean_squared_error(y_test, lr.predict(X_test))))"
   ]
  },
  {
   "cell_type": "markdown",
   "id": "rubber-willow",
   "metadata": {},
   "source": [
    "## 6.2 Modelo de distância"
   ]
  },
  {
   "cell_type": "code",
   "execution_count": 259,
   "id": "precious-bosnia",
   "metadata": {},
   "outputs": [
    {
     "name": "stdout",
     "output_type": "stream",
     "text": [
      "MSE no training: 12.992154700913506 +- 1.445785627388897\n",
      "MSE no validation: 20.449567358024694 +- 6.1081190062367465\n",
      "r2 no training: 0.8473147103039524 +- 0.015896716860310505\n",
      "r2 no validation: 0.760670500294678 +- 0.051062754268757594\n"
     ]
    }
   ],
   "source": [
    "knn = KNeighborsRegressor(n_neighbors=5)\n",
    "\n",
    "cross_validation(knn, kf, X_train, y_train)"
   ]
  },
  {
   "cell_type": "code",
   "execution_count": 359,
   "id": "correct-garbage",
   "metadata": {},
   "outputs": [
    {
     "name": "stdout",
     "output_type": "stream",
     "text": [
      "R2 no Teste: 0.5113780636470004\n",
      "MSE no Teste: 39.78772156862745\n"
     ]
    }
   ],
   "source": [
    "print(\"R2 no Teste: {}\".format(r2_score(y_test, knn.predict(X_test))))\n",
    "print(\"MSE no Teste: {}\".format(mean_squared_error(y_test, knn.predict(X_test))))"
   ]
  },
  {
   "cell_type": "markdown",
   "id": "failing-entrepreneur",
   "metadata": {},
   "source": [
    "O modelo de KNN está mais overfitado que o modelo linear, pois o delta entre métricas de treino e validação ficou maior."
   ]
  },
  {
   "cell_type": "markdown",
   "id": "fuzzy-progressive",
   "metadata": {},
   "source": [
    "## 6.3 Modelo de árvore"
   ]
  },
  {
   "cell_type": "code",
   "execution_count": 268,
   "id": "lesser-logging",
   "metadata": {},
   "outputs": [
    {
     "name": "stdout",
     "output_type": "stream",
     "text": [
      "MSE no training: 14.839274827234732 +- 0.9170108747329435\n",
      "MSE no validation: 22.546230536953203 +- 7.24519991898321\n",
      "r2 no training: 0.825630877915484 +- 0.007936182015391787\n",
      "r2 no validation: 0.7231584455330019 +- 0.1131686056399482\n"
     ]
    }
   ],
   "source": [
    "dt = DecisionTreeRegressor(max_depth=3, min_samples_leaf=5, random_state=0)\n",
    "\n",
    "cross_validation(dt, kf, X_train, y_train)"
   ]
  },
  {
   "cell_type": "code",
   "execution_count": 360,
   "id": "interested-seating",
   "metadata": {},
   "outputs": [
    {
     "name": "stdout",
     "output_type": "stream",
     "text": [
      "R2 no Teste: 0.5967432480141794\n",
      "MSE no Teste: 32.83656785537681\n"
     ]
    }
   ],
   "source": [
    "print(\"R2 no Teste: {}\".format(r2_score(y_test, dt.predict(X_test))))\n",
    "print(\"MSE no Teste: {}\".format(mean_squared_error(y_test, dt.predict(X_test))))"
   ]
  },
  {
   "cell_type": "markdown",
   "id": "desperate-meeting",
   "metadata": {},
   "source": [
    "## 6.4 Modelo ensemble"
   ]
  },
  {
   "cell_type": "code",
   "execution_count": 363,
   "id": "narrative-bishop",
   "metadata": {},
   "outputs": [
    {
     "name": "stdout",
     "output_type": "stream",
     "text": [
      "MSE no training: 10.488238820089245 +- 0.7475226980492506\n",
      "MSE no validation: 16.10568182919119 +- 5.581028043099477\n",
      "r2 no training: 0.8766280634754627 +- 0.008862387258246887\n",
      "r2 no validation: 0.8095020180335606 +- 0.052936544039161856\n"
     ]
    }
   ],
   "source": [
    "rf = RandomForestRegressor(n_estimators=500, max_depth=3, min_samples_leaf=5, random_state=0)\n",
    "\n",
    "cross_validation(rf, kf, X_train, y_train)"
   ]
  },
  {
   "cell_type": "code",
   "execution_count": 364,
   "id": "canadian-egypt",
   "metadata": {},
   "outputs": [
    {
     "name": "stdout",
     "output_type": "stream",
     "text": [
      "R2 no Teste: 0.6549293209255013\n",
      "MSE no Teste: 28.098566763066017\n"
     ]
    }
   ],
   "source": [
    "print(\"R2 no Teste: {}\".format(r2_score(y_test, rf.predict(X_test))))\n",
    "print(\"MSE no Teste: {}\".format(mean_squared_error(y_test, rf.predict(X_test))))"
   ]
  },
  {
   "cell_type": "markdown",
   "id": "conditional-pastor",
   "metadata": {},
   "source": [
    "O Random Forest parece ser o mais promissor. Suas métrica são superiores aos outros modelos, porém ainda overfita bastante. Vamos tentar parametrizar melhor."
   ]
  },
  {
   "cell_type": "markdown",
   "id": "revolutionary-biography",
   "metadata": {},
   "source": [
    "### 6.4.1 Feature Importance"
   ]
  },
  {
   "cell_type": "code",
   "execution_count": 330,
   "id": "miniature-lighter",
   "metadata": {},
   "outputs": [
    {
     "data": {
      "text/html": [
       "<div>\n",
       "<style scoped>\n",
       "    .dataframe tbody tr th:only-of-type {\n",
       "        vertical-align: middle;\n",
       "    }\n",
       "\n",
       "    .dataframe tbody tr th {\n",
       "        vertical-align: top;\n",
       "    }\n",
       "\n",
       "    .dataframe thead th {\n",
       "        text-align: right;\n",
       "    }\n",
       "</style>\n",
       "<table border=\"1\" class=\"dataframe\">\n",
       "  <thead>\n",
       "    <tr style=\"text-align: right;\">\n",
       "      <th></th>\n",
       "      <th>index</th>\n",
       "      <th>Importância</th>\n",
       "    </tr>\n",
       "  </thead>\n",
       "  <tbody>\n",
       "    <tr>\n",
       "      <th>12</th>\n",
       "      <td>LSTAT</td>\n",
       "      <td>0.491775</td>\n",
       "    </tr>\n",
       "    <tr>\n",
       "      <th>5</th>\n",
       "      <td>RM</td>\n",
       "      <td>0.414581</td>\n",
       "    </tr>\n",
       "    <tr>\n",
       "      <th>0</th>\n",
       "      <td>CRIM</td>\n",
       "      <td>0.045244</td>\n",
       "    </tr>\n",
       "    <tr>\n",
       "      <th>7</th>\n",
       "      <td>DIS</td>\n",
       "      <td>0.015080</td>\n",
       "    </tr>\n",
       "    <tr>\n",
       "      <th>4</th>\n",
       "      <td>NOX</td>\n",
       "      <td>0.012614</td>\n",
       "    </tr>\n",
       "    <tr>\n",
       "      <th>10</th>\n",
       "      <td>PTRATIO</td>\n",
       "      <td>0.010841</td>\n",
       "    </tr>\n",
       "    <tr>\n",
       "      <th>8</th>\n",
       "      <td>RAD</td>\n",
       "      <td>0.002699</td>\n",
       "    </tr>\n",
       "    <tr>\n",
       "      <th>6</th>\n",
       "      <td>AGE</td>\n",
       "      <td>0.001903</td>\n",
       "    </tr>\n",
       "    <tr>\n",
       "      <th>2</th>\n",
       "      <td>INDUS</td>\n",
       "      <td>0.001789</td>\n",
       "    </tr>\n",
       "    <tr>\n",
       "      <th>11</th>\n",
       "      <td>B</td>\n",
       "      <td>0.001732</td>\n",
       "    </tr>\n",
       "    <tr>\n",
       "      <th>9</th>\n",
       "      <td>TAX</td>\n",
       "      <td>0.001058</td>\n",
       "    </tr>\n",
       "    <tr>\n",
       "      <th>1</th>\n",
       "      <td>ZN</td>\n",
       "      <td>0.000684</td>\n",
       "    </tr>\n",
       "    <tr>\n",
       "      <th>3</th>\n",
       "      <td>CHAS</td>\n",
       "      <td>0.000000</td>\n",
       "    </tr>\n",
       "  </tbody>\n",
       "</table>\n",
       "</div>"
      ],
      "text/plain": [
       "      index  Importância\n",
       "12    LSTAT     0.491775\n",
       "5        RM     0.414581\n",
       "0      CRIM     0.045244\n",
       "7       DIS     0.015080\n",
       "4       NOX     0.012614\n",
       "10  PTRATIO     0.010841\n",
       "8       RAD     0.002699\n",
       "6       AGE     0.001903\n",
       "2     INDUS     0.001789\n",
       "11        B     0.001732\n",
       "9       TAX     0.001058\n",
       "1        ZN     0.000684\n",
       "3      CHAS     0.000000"
      ]
     },
     "execution_count": 330,
     "metadata": {},
     "output_type": "execute_result"
    }
   ],
   "source": [
    "pd.DataFrame(\n",
    "    data = rf.feature_importances_, \n",
    "    index = X_train.columns,\n",
    "    columns=['Importância']\n",
    ").reset_index().sort_values(by='Importância', ascending=False)"
   ]
  },
  {
   "cell_type": "markdown",
   "id": "optional-broadcasting",
   "metadata": {},
   "source": [
    "# 7 Hyperparametrização"
   ]
  },
  {
   "cell_type": "markdown",
   "id": "pregnant-salad",
   "metadata": {},
   "source": [
    "## 7.1 Grid Search"
   ]
  },
  {
   "cell_type": "code",
   "execution_count": 296,
   "id": "classified-agenda",
   "metadata": {},
   "outputs": [],
   "source": [
    "# Definindo grid para busca\n",
    "params_grid = {\n",
    "    'n_estimators': [100, 300, 600, 1000],\n",
    "    'max_features': ['auto'],\n",
    "    'max_depth': [2,3],\n",
    "    'min_samples_split': [2, 5, 10],\n",
    "    'min_samples_leaf': [1, 2, 4],\n",
    "    'bootstrap': [True]\n",
    "}\n",
    "\n",
    "# criando nosso modelo de grid search\n",
    "gridsearch_model = GridSearchCV(\n",
    "    estimator = rf, \n",
    "    param_grid = params_grid,\n",
    "    scoring = 'neg_mean_absolute_error',\n",
    "    n_jobs = -1,\n",
    "    cv = 5,\n",
    "    verbose = 2\n",
    ")"
   ]
  },
  {
   "cell_type": "code",
   "execution_count": 297,
   "id": "agricultural-olive",
   "metadata": {},
   "outputs": [
    {
     "name": "stdout",
     "output_type": "stream",
     "text": [
      "Fitting 5 folds for each of 72 candidates, totalling 360 fits\n",
      "CPU times: user 3.97 s, sys: 174 ms, total: 4.14 s\n",
      "Wall time: 2min 44s\n"
     ]
    },
    {
     "data": {
      "text/plain": [
       "GridSearchCV(cv=5,\n",
       "             estimator=RandomForestRegressor(max_depth=2, min_samples_leaf=5,\n",
       "                                             n_estimators=500, random_state=0),\n",
       "             n_jobs=-1,\n",
       "             param_grid={'bootstrap': [True], 'max_depth': [2, 3],\n",
       "                         'max_features': ['auto'],\n",
       "                         'min_samples_leaf': [1, 2, 4],\n",
       "                         'min_samples_split': [2, 5, 10],\n",
       "                         'n_estimators': [100, 300, 600, 1000]},\n",
       "             scoring='neg_mean_absolute_error', verbose=2)"
      ]
     },
     "execution_count": 297,
     "metadata": {},
     "output_type": "execute_result"
    }
   ],
   "source": [
    "%time gridsearch_model.fit(X_train, y_train)"
   ]
  },
  {
   "cell_type": "code",
   "execution_count": 298,
   "id": "apparent-vanilla",
   "metadata": {},
   "outputs": [
    {
     "name": "stdout",
     "output_type": "stream",
     "text": [
      "Melhores parâmetros: \n",
      "{'bootstrap': True, 'max_depth': 3, 'max_features': 'auto', 'min_samples_leaf': 4, 'min_samples_split': 2, 'n_estimators': 1000}\n"
     ]
    }
   ],
   "source": [
    "print('Melhores parâmetros: ')\n",
    "print(gridsearch_model.best_params_)"
   ]
  },
  {
   "cell_type": "code",
   "execution_count": 299,
   "id": "advance-discrimination",
   "metadata": {},
   "outputs": [],
   "source": [
    "best_grid_rf = gridsearch_model.best_estimator_"
   ]
  },
  {
   "cell_type": "markdown",
   "id": "experienced-escape",
   "metadata": {},
   "source": [
    "## 7.1 Random Search"
   ]
  },
  {
   "cell_type": "code",
   "execution_count": 306,
   "id": "republican-gross",
   "metadata": {},
   "outputs": [],
   "source": [
    "# Definindo grid para busca\n",
    "params_grid = {\n",
    "    'n_estimators': [100, 300, 600, 1000],\n",
    "    'max_features': ['auto'],\n",
    "    'max_depth': [2,3],\n",
    "    'min_samples_split': [2, 5, 10],\n",
    "    'min_samples_leaf': [1, 2, 4],\n",
    "    'bootstrap': [True]\n",
    "}\n",
    "\n",
    "# criando nosso modelo de grid search\n",
    "randomsearch_model = RandomizedSearchCV(\n",
    "    estimator = rf, \n",
    "    param_distributions = params_grid,\n",
    "    scoring = 'neg_mean_absolute_error',\n",
    "    n_jobs = -1,\n",
    "    cv = 5,\n",
    "    verbose = 2\n",
    ")"
   ]
  },
  {
   "cell_type": "code",
   "execution_count": 307,
   "id": "arbitrary-professor",
   "metadata": {},
   "outputs": [
    {
     "name": "stdout",
     "output_type": "stream",
     "text": [
      "Fitting 5 folds for each of 10 candidates, totalling 50 fits\n",
      "CPU times: user 1.2 s, sys: 23.7 ms, total: 1.23 s\n",
      "Wall time: 18.9 s\n"
     ]
    },
    {
     "data": {
      "text/plain": [
       "RandomizedSearchCV(cv=5,\n",
       "                   estimator=RandomForestRegressor(max_depth=2,\n",
       "                                                   min_samples_leaf=5,\n",
       "                                                   n_estimators=500,\n",
       "                                                   random_state=0),\n",
       "                   n_jobs=-1,\n",
       "                   param_distributions={'bootstrap': [True],\n",
       "                                        'max_depth': [2, 3],\n",
       "                                        'max_features': ['auto'],\n",
       "                                        'min_samples_leaf': [1, 2, 4],\n",
       "                                        'min_samples_split': [2, 5, 10],\n",
       "                                        'n_estimators': [100, 300, 600, 1000]},\n",
       "                   scoring='neg_mean_absolute_error', verbose=2)"
      ]
     },
     "execution_count": 307,
     "metadata": {},
     "output_type": "execute_result"
    }
   ],
   "source": [
    "%time randomsearch_model.fit(X_train, y_train)"
   ]
  },
  {
   "cell_type": "code",
   "execution_count": 308,
   "id": "parental-framing",
   "metadata": {},
   "outputs": [
    {
     "name": "stdout",
     "output_type": "stream",
     "text": [
      "Melhores parâmetros: \n",
      "{'n_estimators': 600, 'min_samples_split': 2, 'min_samples_leaf': 1, 'max_features': 'auto', 'max_depth': 2, 'bootstrap': True}\n"
     ]
    }
   ],
   "source": [
    "print('Melhores parâmetros: ')\n",
    "print(randomsearch_model.best_params_)"
   ]
  },
  {
   "cell_type": "code",
   "execution_count": 310,
   "id": "parallel-choir",
   "metadata": {},
   "outputs": [],
   "source": [
    "best_random_rf = randomsearch_model.best_estimator_"
   ]
  },
  {
   "cell_type": "markdown",
   "id": "manufactured-globe",
   "metadata": {},
   "source": [
    "# 8 Resultados"
   ]
  },
  {
   "cell_type": "markdown",
   "id": "central-gambling",
   "metadata": {},
   "source": [
    "## 8.1 grid search"
   ]
  },
  {
   "cell_type": "code",
   "execution_count": 300,
   "id": "opening-gathering",
   "metadata": {},
   "outputs": [
    {
     "name": "stdout",
     "output_type": "stream",
     "text": [
      "R2 no conjunto de testes: 0.6728409769855679\n",
      "Mean squared error no conjunto de testes: 26.64004856908118\n"
     ]
    }
   ],
   "source": [
    "y_pred_test = best_grid_rf.predict(X_test)\n",
    "\n",
    "print(\"R2 no conjunto de testes: {}\".format(r2_score(y_test, y_pred_test)))\n",
    "print(\"Mean squared error no conjunto de testes: {}\".format(mean_squared_error(y_test, y_pred_test)))"
   ]
  },
  {
   "cell_type": "code",
   "execution_count": 301,
   "id": "swedish-assessment",
   "metadata": {},
   "outputs": [
    {
     "data": {
      "text/plain": [
       "0.873324460068411"
      ]
     },
     "execution_count": 301,
     "metadata": {},
     "output_type": "execute_result"
    }
   ],
   "source": [
    "best_grid_rf.score(X_train, y_train)"
   ]
  },
  {
   "cell_type": "code",
   "execution_count": 302,
   "id": "drawn-washington",
   "metadata": {},
   "outputs": [
    {
     "name": "stdout",
     "output_type": "stream",
     "text": [
      "MSE no training: 10.185740710680294 +- 0.6925855006525845\n",
      "MSE no validation: 15.997003231416816 +- 5.512884146688594\n",
      "r2 no training: 0.8801927267410411 +- 0.008126353553428103\n",
      "r2 no validation: 0.8109981818127038 +- 0.05136109025353893\n"
     ]
    }
   ],
   "source": [
    "cross_validation(best_grid_rf, kf, X_train, y_train)"
   ]
  },
  {
   "cell_type": "markdown",
   "id": "confident-withdrawal",
   "metadata": {},
   "source": [
    "## 8.2 random search"
   ]
  },
  {
   "cell_type": "code",
   "execution_count": 311,
   "id": "checked-mustang",
   "metadata": {},
   "outputs": [
    {
     "name": "stdout",
     "output_type": "stream",
     "text": [
      "R2 no conjunto de testes: 0.650721570810732\n",
      "Mean squared error no conjunto de testes: 28.44119728687421\n"
     ]
    }
   ],
   "source": [
    "y_pred_test = best_random_rf.predict(X_test)\n",
    "\n",
    "print(\"R2 no conjunto de testes: {}\".format(r2_score(y_test, y_pred_test)))\n",
    "print(\"Mean squared error no conjunto de testes: {}\".format(mean_squared_error(y_test, y_pred_test)))"
   ]
  },
  {
   "cell_type": "code",
   "execution_count": 312,
   "id": "transsexual-making",
   "metadata": {},
   "outputs": [
    {
     "data": {
      "text/plain": [
       "0.8008785211715315"
      ]
     },
     "execution_count": 312,
     "metadata": {},
     "output_type": "execute_result"
    }
   ],
   "source": [
    "best_random_rf.score(X_train, y_train)"
   ]
  },
  {
   "cell_type": "code",
   "execution_count": 313,
   "id": "tamil-mining",
   "metadata": {},
   "outputs": [
    {
     "name": "stdout",
     "output_type": "stream",
     "text": [
      "MSE no training: 16.13983613467185 +- 0.9635646232444236\n",
      "MSE no validation: 20.62608637664288 +- 6.543980618706637\n",
      "r2 no training: 0.8100926815976497 +- 0.01233792322381996\n",
      "r2 no validation: 0.755972375517417 +- 0.055576441750096135\n"
     ]
    }
   ],
   "source": [
    "cross_validation(best_random_rf, kf, X_train, y_train)"
   ]
  },
  {
   "cell_type": "markdown",
   "id": "fallen-jerusalem",
   "metadata": {},
   "source": [
    "# 9 Seleção de variáveis"
   ]
  },
  {
   "cell_type": "markdown",
   "id": "obvious-canvas",
   "metadata": {},
   "source": [
    "## 9.1 Recursive feature elimination"
   ]
  },
  {
   "cell_type": "code",
   "execution_count": 342,
   "id": "unique-vancouver",
   "metadata": {},
   "outputs": [],
   "source": [
    "selector = RFE(rf, n_features_to_select=6, step=1)\n",
    "selector = selector.fit(X_train, y_train)"
   ]
  },
  {
   "cell_type": "code",
   "execution_count": 344,
   "id": "located-click",
   "metadata": {},
   "outputs": [],
   "source": [
    "mascara_best_features = selector.support_\n",
    "\n",
    "X_train_rfe = X_train.loc[:, mascara_best_features].copy()\n",
    "X_test_rfe = X_test.loc[:, mascara_best_features].copy()"
   ]
  },
  {
   "cell_type": "code",
   "execution_count": 345,
   "id": "alternative-kruger",
   "metadata": {},
   "outputs": [
    {
     "name": "stdout",
     "output_type": "stream",
     "text": [
      "MSE no training: 10.722917776246305 +- 0.7640973185957147\n",
      "MSE no validation: 16.064705008423793 +- 5.707097209906269\n",
      "r2 no training: 0.8738804658392384 +- 0.008901846564584263\n",
      "r2 no validation: 0.8098085010660403 +- 0.05508009443415022\n"
     ]
    }
   ],
   "source": [
    "cross_validation(rf, kf, X_train_rfe, y_train)"
   ]
  },
  {
   "cell_type": "markdown",
   "id": "statistical-engineer",
   "metadata": {},
   "source": [
    "## 9.2 Boruta"
   ]
  },
  {
   "cell_type": "code",
   "execution_count": 351,
   "id": "fallen-couple",
   "metadata": {},
   "outputs": [
    {
     "name": "stdout",
     "output_type": "stream",
     "text": [
      "features in the green area: ['CRIM', 'NOX', 'RM', 'AGE', 'DIS', 'TAX', 'PTRATIO', 'LSTAT']\n",
      "features in the blue area: ['INDUS']\n"
     ]
    }
   ],
   "source": [
    "from boruta import BorutaPy\n",
    "\n",
    "# inicializando boruta\n",
    "boruta = BorutaPy(\n",
    "    estimator = rf, \n",
    "    n_estimators = 'auto',\n",
    "    max_iter = 100,\n",
    "    random_state = 0\n",
    ")\n",
    "\n",
    "# Selecionando as variáveis\n",
    "boruta.fit(np.array(X_train), np.array(y_train))\n",
    "\n",
    "### print results\n",
    "green_area = X_train.columns[boruta.support_].to_list()\n",
    "blue_area = X_train.columns[boruta.support_weak_].to_list()\n",
    "print('features in the green area:', green_area)\n",
    "print('features in the blue area:', blue_area)"
   ]
  },
  {
   "cell_type": "code",
   "execution_count": 353,
   "id": "japanese-spell",
   "metadata": {},
   "outputs": [],
   "source": [
    "X_train_boruta = X_train[green_area].copy()\n",
    "X_test_boruta = X_test[green_area].copy()"
   ]
  },
  {
   "cell_type": "code",
   "execution_count": 355,
   "id": "unauthorized-vessel",
   "metadata": {},
   "outputs": [
    {
     "name": "stdout",
     "output_type": "stream",
     "text": [
      "MSE no training: 10.513675989077651 +- 0.7999516086424359\n",
      "MSE no validation: 16.052117355672355 +- 5.580188685689784\n",
      "r2 no training: 0.8763546836841141 +- 0.009158279257916622\n",
      "r2 no validation: 0.8097451626036557 +- 0.054832395556249566\n"
     ]
    }
   ],
   "source": [
    "cross_validation(rf, kf, X_train_boruta, y_train)"
   ]
  },
  {
   "cell_type": "markdown",
   "id": "banner-segment",
   "metadata": {},
   "source": [
    "# Conclusões"
   ]
  },
  {
   "cell_type": "markdown",
   "id": "pregnant-myanmar",
   "metadata": {},
   "source": [
    "- testamos alguns modelos:\n",
    "    - linear regression\n",
    "    - knn\n",
    "    - decision tree\n",
    "    - random forest\n",
    "- avaliamos em validação cruzada\n",
    "- testamos otimização de hiperparâmetros\n",
    "    - grid search\n",
    "    - random search\n",
    "- testamos seleção de variáveis\n",
    "    - RFE\n",
    "    - Boruta\n",
    "    \n",
    "- Concluimos que o melhor modelo encontrado ainda assim overfita\n",
    "- Dentro os modelos testados, o que menos overfitou foi o RF\n",
    "- Portanto, na escolha do melhor modelo, escolheria o RF"
   ]
  }
 ],
 "metadata": {
  "kernelspec": {
   "display_name": "Python 3",
   "language": "python",
   "name": "python3"
  },
  "language_info": {
   "codemirror_mode": {
    "name": "ipython",
    "version": 3
   },
   "file_extension": ".py",
   "mimetype": "text/x-python",
   "name": "python",
   "nbconvert_exporter": "python",
   "pygments_lexer": "ipython3",
   "version": "3.7.3"
  }
 },
 "nbformat": 4,
 "nbformat_minor": 5
}
