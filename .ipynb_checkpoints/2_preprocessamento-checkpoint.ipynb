{
 "cells": [
  {
   "cell_type": "code",
   "execution_count": 5,
   "id": "international-dressing",
   "metadata": {},
   "outputs": [],
   "source": [
    "import pandas as pd\n",
    "import numpy as np\n",
    "import warnings\n",
    "\n",
    "# preprocessing\n",
    "from sklearn.impute import KNNImputer\n",
    "from sklearn.preprocessing import StandardScaler\n",
    "\n",
    "warnings.filterwarnings('ignore')\n",
    "\n",
    "plt.style.use('seaborn-pastel')\n",
    "\n",
    "%matplotlib inline"
   ]
  },
  {
   "cell_type": "code",
   "execution_count": 2,
   "id": "historical-swedish",
   "metadata": {},
   "outputs": [],
   "source": [
    "df = pd.read_csv('data/boston_house_prices_raw.csv')"
   ]
  },
  {
   "cell_type": "markdown",
   "id": "fleet-malaysia",
   "metadata": {},
   "source": [
    "# Divisão de treino e teste"
   ]
  },
  {
   "cell_type": "code",
   "execution_count": 6,
   "id": "prompt-viking",
   "metadata": {},
   "outputs": [],
   "source": [
    "X_train, X_test, y_train, y_test = train_test_split(\n",
    "    df.drop('price', axis=1), \n",
    "    df['price'], \n",
    "    test_size = 0.2, \n",
    "    random_state = 0\n",
    ")"
   ]
  },
  {
   "cell_type": "markdown",
   "id": "personalized-shopper",
   "metadata": {},
   "source": [
    "# Missings"
   ]
  },
  {
   "cell_type": "code",
   "execution_count": 7,
   "id": "literary-toddler",
   "metadata": {},
   "outputs": [
    {
     "data": {
      "text/plain": [
       "CRIM         0\n",
       "ZN           0\n",
       "INDUS        0\n",
       "CHAS         0\n",
       "NOX        110\n",
       "RM          64\n",
       "AGE          0\n",
       "DIS          0\n",
       "RAD         66\n",
       "TAX         64\n",
       "PTRATIO      0\n",
       "B            0\n",
       "LSTAT        0\n",
       "dtype: int64"
      ]
     },
     "execution_count": 7,
     "metadata": {},
     "output_type": "execute_result"
    }
   ],
   "source": [
    "X_train.isnull().sum()"
   ]
  },
  {
   "cell_type": "code",
   "execution_count": 8,
   "id": "widespread-rachel",
   "metadata": {},
   "outputs": [
    {
     "data": {
      "text/plain": [
       "CRIM         0\n",
       "ZN           0\n",
       "INDUS        0\n",
       "CHAS         0\n",
       "NOX         28\n",
       "RM          21\n",
       "AGE          0\n",
       "DIS          0\n",
       "RAD        102\n",
       "TAX         21\n",
       "PTRATIO      0\n",
       "B            0\n",
       "LSTAT        0\n",
       "dtype: int64"
      ]
     },
     "execution_count": 8,
     "metadata": {},
     "output_type": "execute_result"
    }
   ],
   "source": [
    "X_test.isnull().sum()"
   ]
  },
  {
   "cell_type": "markdown",
   "id": "silent-designer",
   "metadata": {},
   "source": [
    "### Imputação por KNN"
   ]
  },
  {
   "cell_type": "code",
   "execution_count": 9,
   "id": "vital-infection",
   "metadata": {},
   "outputs": [],
   "source": [
    "# criando instância da classe KNNImputer\n",
    "imputer = KNNImputer(n_neighbors=5)\n",
    "\n",
    "# fitando e transformado para o treino\n",
    "train_imputed = imputer.fit_transform(X_train)\n",
    "X_train = pd.DataFrame(data=train_imputed, columns=X_train.columns)\n",
    "\n",
    "# aplicando a transformação para o teste (evitando vazamento de dados)\n",
    "test_imputed = imputer.transform(X_test)\n",
    "X_test = pd.DataFrame(data=test_imputed, columns=X_test.columns)"
   ]
  },
  {
   "cell_type": "markdown",
   "id": "answering-southwest",
   "metadata": {},
   "source": [
    "# Scaling\n",
    "\n",
    "$ x_{norm} = \\frac{x - x_{mean}}{x_{std}}  $"
   ]
  },
  {
   "cell_type": "code",
   "execution_count": 10,
   "id": "boring-thirty",
   "metadata": {},
   "outputs": [],
   "source": [
    "# criando instância da classe StandardScaler\n",
    "sc = StandardScaler()\n",
    "\n",
    "# fitando e transformando para treino\n",
    "X_train = sc.fit_transform(X_train)\n",
    "\n",
    "# apenas transformando para teste (evitando vazamento de dados)\n",
    "X_test = sc.transform(X_test)"
   ]
  },
  {
   "cell_type": "code",
   "execution_count": 11,
   "id": "forbidden-persian",
   "metadata": {},
   "outputs": [],
   "source": [
    "X_train = pd.DataFrame(X_train, columns = df.drop('price', axis=1).columns)\n",
    "X_test = pd.DataFrame(X_test, columns = df.drop('price', axis=1).columns)"
   ]
  },
  {
   "cell_type": "code",
   "execution_count": 12,
   "id": "official-camcorder",
   "metadata": {},
   "outputs": [],
   "source": [
    "y_train.reset_index(drop=True, inplace=True)\n",
    "y_test.reset_index(drop=True, inplace=True)"
   ]
  },
  {
   "cell_type": "markdown",
   "id": "grateful-ready",
   "metadata": {},
   "source": [
    "# Salvando dados limpos"
   ]
  },
  {
   "cell_type": "code",
   "execution_count": 14,
   "id": "departmental-father",
   "metadata": {},
   "outputs": [],
   "source": [
    "# Salvando target nos dataframes\n",
    "X_train['target'] = y_train\n",
    "X_test['target'] = y_test\n",
    "\n",
    "# Setar conjunto de treino e teste\n",
    "X_train['set'] = 'treino'\n",
    "X_test['set'] = 'test'\n",
    "\n",
    "# Concatenar treino e teste\n",
    "df_clean = pd.concat([X_train, X_test], axis=0)\n",
    "\n",
    "# Salvando o df_clean\n",
    "df_clean.to_csv('data/boston_house_prices_clean.csv', index=None)"
   ]
  },
  {
   "cell_type": "code",
   "execution_count": null,
   "id": "novel-missouri",
   "metadata": {},
   "outputs": [],
   "source": []
  }
 ],
 "metadata": {
  "kernelspec": {
   "display_name": "Python 3",
   "language": "python",
   "name": "python3"
  },
  "language_info": {
   "codemirror_mode": {
    "name": "ipython",
    "version": 3
   },
   "file_extension": ".py",
   "mimetype": "text/x-python",
   "name": "python",
   "nbconvert_exporter": "python",
   "pygments_lexer": "ipython3",
   "version": "3.7.3"
  }
 },
 "nbformat": 4,
 "nbformat_minor": 5
}
