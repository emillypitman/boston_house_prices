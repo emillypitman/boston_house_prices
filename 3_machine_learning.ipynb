{
 "cells": [
  {
   "cell_type": "code",
   "execution_count": 1,
   "id": "subsequent-plymouth",
   "metadata": {},
   "outputs": [],
   "source": [
    "import pandas as pd\n",
    "import numpy as np\n",
    "import matplotlib.pyplot as plt\n",
    "import seaborn as sns\n",
    "import warnings\n",
    "from sklearn.datasets import load_boston\n",
    "import random\n",
    "\n",
    "# machine learning\n",
    "from sklearn.ensemble import RandomForestRegressor\n",
    "from sklearn.tree import DecisionTreeRegressor\n",
    "from sklearn.neighbors import KNeighborsRegressor\n",
    "from sklearn.linear_model import LinearRegression\n",
    "import statsmodels.api as sm\n",
    "\n",
    "# preprocessing\n",
    "from sklearn.impute import KNNImputer\n",
    "from sklearn.preprocessing import StandardScaler\n",
    "\n",
    "# auxiliares modelagem\n",
    "from sklearn.model_selection import train_test_split\n",
    "from sklearn.model_selection import KFold\n",
    "from sklearn.metrics import r2_score, mean_squared_error\n",
    "from sklearn.model_selection import GridSearchCV, RandomizedSearchCV\n",
    "from sklearn.feature_selection import SelectKBest, RFE\n",
    "\n",
    "# importando funções helpers\n",
    "from helpers import cross_validation\n",
    "\n",
    "\n",
    "warnings.filterwarnings('ignore')\n",
    "\n",
    "plt.style.use('seaborn-pastel')\n",
    "\n",
    "%matplotlib inline"
   ]
  },
  {
   "cell_type": "markdown",
   "id": "crazy-announcement",
   "metadata": {},
   "source": [
    "# 1- Importando os dados"
   ]
  },
  {
   "cell_type": "code",
   "execution_count": 2,
   "id": "posted-zealand",
   "metadata": {},
   "outputs": [],
   "source": [
    "df = pd.read_csv('data/boston_house_prices_clean.csv')"
   ]
  },
  {
   "cell_type": "code",
   "execution_count": 3,
   "id": "composite-trade",
   "metadata": {},
   "outputs": [],
   "source": [
    "X_train = df.query('set == \"treino\"')\n",
    "X_test = df.query('set == \"test\"')"
   ]
  },
  {
   "cell_type": "code",
   "execution_count": 4,
   "id": "electrical-lindsay",
   "metadata": {},
   "outputs": [],
   "source": [
    "y_train = X_train['target']\n",
    "y_test = X_test['target']"
   ]
  },
  {
   "cell_type": "code",
   "execution_count": 5,
   "id": "monetary-fabric",
   "metadata": {},
   "outputs": [],
   "source": [
    "X_train.drop(['target', 'set'], axis=1, inplace=True)\n",
    "X_test.drop(['target', 'set'], axis=1, inplace=True)"
   ]
  },
  {
   "cell_type": "markdown",
   "id": "metropolitan-mainstream",
   "metadata": {},
   "source": [
    "# 2 - Modelagem"
   ]
  },
  {
   "cell_type": "markdown",
   "id": "sunset-private",
   "metadata": {},
   "source": [
    "### 2.1 - OLS - Ordinary Least Squares"
   ]
  },
  {
   "cell_type": "code",
   "execution_count": 6,
   "id": "preceding-christianity",
   "metadata": {},
   "outputs": [
    {
     "data": {
      "text/html": [
       "<table class=\"simpletable\">\n",
       "<caption>OLS Regression Results</caption>\n",
       "<tr>\n",
       "  <th>Dep. Variable:</th>         <td>target</td>      <th>  R-squared:         </th> <td>   0.763</td> \n",
       "</tr>\n",
       "<tr>\n",
       "  <th>Model:</th>                   <td>OLS</td>       <th>  Adj. R-squared:    </th> <td>   0.756</td> \n",
       "</tr>\n",
       "<tr>\n",
       "  <th>Method:</th>             <td>Least Squares</td>  <th>  F-statistic:       </th> <td>   114.8</td> \n",
       "</tr>\n",
       "<tr>\n",
       "  <th>Date:</th>             <td>Wed, 21 Apr 2021</td> <th>  Prob (F-statistic):</th> <td>3.27e-115</td>\n",
       "</tr>\n",
       "<tr>\n",
       "  <th>Time:</th>                 <td>16:50:18</td>     <th>  Log-Likelihood:    </th> <td> -1180.1</td> \n",
       "</tr>\n",
       "<tr>\n",
       "  <th>No. Observations:</th>      <td>   404</td>      <th>  AIC:               </th> <td>   2384.</td> \n",
       "</tr>\n",
       "<tr>\n",
       "  <th>Df Residuals:</th>          <td>   392</td>      <th>  BIC:               </th> <td>   2432.</td> \n",
       "</tr>\n",
       "<tr>\n",
       "  <th>Df Model:</th>              <td>    11</td>      <th>                     </th>     <td> </td>    \n",
       "</tr>\n",
       "<tr>\n",
       "  <th>Covariance Type:</th>      <td>nonrobust</td>    <th>                     </th>     <td> </td>    \n",
       "</tr>\n",
       "</table>\n",
       "<table class=\"simpletable\">\n",
       "<tr>\n",
       "     <td></td>        <th>coef</th>     <th>std err</th>      <th>t</th>      <th>P>|t|</th>  <th>[0.025</th>    <th>0.975]</th>  \n",
       "</tr>\n",
       "<tr>\n",
       "  <th>const</th>   <td>   22.6119</td> <td>    0.227</td> <td>   99.682</td> <td> 0.000</td> <td>   22.166</td> <td>   23.058</td>\n",
       "</tr>\n",
       "<tr>\n",
       "  <th>CRIM</th>    <td>   -0.9193</td> <td>    0.302</td> <td>   -3.040</td> <td> 0.003</td> <td>   -1.514</td> <td>   -0.325</td>\n",
       "</tr>\n",
       "<tr>\n",
       "  <th>ZN</th>      <td>    0.9072</td> <td>    0.352</td> <td>    2.575</td> <td> 0.010</td> <td>    0.215</td> <td>    1.600</td>\n",
       "</tr>\n",
       "<tr>\n",
       "  <th>CHAS</th>    <td>    0.5789</td> <td>    0.233</td> <td>    2.485</td> <td> 0.013</td> <td>    0.121</td> <td>    1.037</td>\n",
       "</tr>\n",
       "<tr>\n",
       "  <th>NOX</th>     <td>   -1.9324</td> <td>    0.466</td> <td>   -4.150</td> <td> 0.000</td> <td>   -2.848</td> <td>   -1.017</td>\n",
       "</tr>\n",
       "<tr>\n",
       "  <th>RM</th>      <td>    2.1805</td> <td>    0.314</td> <td>    6.952</td> <td> 0.000</td> <td>    1.564</td> <td>    2.797</td>\n",
       "</tr>\n",
       "<tr>\n",
       "  <th>DIS</th>     <td>   -2.8510</td> <td>    0.410</td> <td>   -6.949</td> <td> 0.000</td> <td>   -3.658</td> <td>   -2.044</td>\n",
       "</tr>\n",
       "<tr>\n",
       "  <th>RAD</th>     <td>    2.4399</td> <td>    0.561</td> <td>    4.348</td> <td> 0.000</td> <td>    1.337</td> <td>    3.543</td>\n",
       "</tr>\n",
       "<tr>\n",
       "  <th>TAX</th>     <td>   -2.0301</td> <td>    0.586</td> <td>   -3.467</td> <td> 0.001</td> <td>   -3.181</td> <td>   -0.879</td>\n",
       "</tr>\n",
       "<tr>\n",
       "  <th>PTRATIO</th> <td>   -2.3134</td> <td>    0.301</td> <td>   -7.680</td> <td> 0.000</td> <td>   -2.906</td> <td>   -1.721</td>\n",
       "</tr>\n",
       "<tr>\n",
       "  <th>B</th>       <td>    0.6606</td> <td>    0.264</td> <td>    2.505</td> <td> 0.013</td> <td>    0.142</td> <td>    1.179</td>\n",
       "</tr>\n",
       "<tr>\n",
       "  <th>LSTAT</th>   <td>   -4.0238</td> <td>    0.365</td> <td>  -11.026</td> <td> 0.000</td> <td>   -4.741</td> <td>   -3.306</td>\n",
       "</tr>\n",
       "</table>\n",
       "<table class=\"simpletable\">\n",
       "<tr>\n",
       "  <th>Omnibus:</th>       <td>111.492</td> <th>  Durbin-Watson:     </th> <td>   1.979</td>\n",
       "</tr>\n",
       "<tr>\n",
       "  <th>Prob(Omnibus):</th> <td> 0.000</td>  <th>  Jarque-Bera (JB):  </th> <td> 349.433</td>\n",
       "</tr>\n",
       "<tr>\n",
       "  <th>Skew:</th>          <td> 1.255</td>  <th>  Prob(JB):          </th> <td>1.32e-76</td>\n",
       "</tr>\n",
       "<tr>\n",
       "  <th>Kurtosis:</th>      <td> 6.803</td>  <th>  Cond. No.          </th> <td>    7.48</td>\n",
       "</tr>\n",
       "</table><br/><br/>Notes:<br/>[1] Standard Errors assume that the covariance matrix of the errors is correctly specified."
      ],
      "text/plain": [
       "<class 'statsmodels.iolib.summary.Summary'>\n",
       "\"\"\"\n",
       "                            OLS Regression Results                            \n",
       "==============================================================================\n",
       "Dep. Variable:                 target   R-squared:                       0.763\n",
       "Model:                            OLS   Adj. R-squared:                  0.756\n",
       "Method:                 Least Squares   F-statistic:                     114.8\n",
       "Date:                Wed, 21 Apr 2021   Prob (F-statistic):          3.27e-115\n",
       "Time:                        16:50:18   Log-Likelihood:                -1180.1\n",
       "No. Observations:                 404   AIC:                             2384.\n",
       "Df Residuals:                     392   BIC:                             2432.\n",
       "Df Model:                          11                                         \n",
       "Covariance Type:            nonrobust                                         \n",
       "==============================================================================\n",
       "                 coef    std err          t      P>|t|      [0.025      0.975]\n",
       "------------------------------------------------------------------------------\n",
       "const         22.6119      0.227     99.682      0.000      22.166      23.058\n",
       "CRIM          -0.9193      0.302     -3.040      0.003      -1.514      -0.325\n",
       "ZN             0.9072      0.352      2.575      0.010       0.215       1.600\n",
       "CHAS           0.5789      0.233      2.485      0.013       0.121       1.037\n",
       "NOX           -1.9324      0.466     -4.150      0.000      -2.848      -1.017\n",
       "RM             2.1805      0.314      6.952      0.000       1.564       2.797\n",
       "DIS           -2.8510      0.410     -6.949      0.000      -3.658      -2.044\n",
       "RAD            2.4399      0.561      4.348      0.000       1.337       3.543\n",
       "TAX           -2.0301      0.586     -3.467      0.001      -3.181      -0.879\n",
       "PTRATIO       -2.3134      0.301     -7.680      0.000      -2.906      -1.721\n",
       "B              0.6606      0.264      2.505      0.013       0.142       1.179\n",
       "LSTAT         -4.0238      0.365    -11.026      0.000      -4.741      -3.306\n",
       "==============================================================================\n",
       "Omnibus:                      111.492   Durbin-Watson:                   1.979\n",
       "Prob(Omnibus):                  0.000   Jarque-Bera (JB):              349.433\n",
       "Skew:                           1.255   Prob(JB):                     1.32e-76\n",
       "Kurtosis:                       6.803   Cond. No.                         7.48\n",
       "==============================================================================\n",
       "\n",
       "Notes:\n",
       "[1] Standard Errors assume that the covariance matrix of the errors is correctly specified.\n",
       "\"\"\""
      ]
     },
     "execution_count": 6,
     "metadata": {},
     "output_type": "execute_result"
    }
   ],
   "source": [
    "cols = [\n",
    "    'CRIM', \n",
    "    'ZN', \n",
    "    #'INDUS', \n",
    "    'CHAS', \n",
    "    'NOX', \n",
    "    'RM', \n",
    "    #'AGE', \n",
    "    'DIS', \n",
    "    'RAD', \n",
    "    'TAX', \n",
    "    'PTRATIO', \n",
    "    'B', \n",
    "    'LSTAT'\n",
    "]\n",
    "X_train_ = sm.add_constant(X_train[cols])\n",
    "model = sm.OLS(y_train, X_train_)\n",
    "results = model.fit()\n",
    "results.summary()"
   ]
  },
  {
   "cell_type": "markdown",
   "id": "quick-energy",
   "metadata": {},
   "source": [
    "### Testando a performance do modelo no conjunto de testes"
   ]
  },
  {
   "cell_type": "code",
   "execution_count": 7,
   "id": "living-accommodation",
   "metadata": {},
   "outputs": [
    {
     "name": "stdout",
     "output_type": "stream",
     "text": [
      "MSE no Treino: 20.17083868132372\n"
     ]
    }
   ],
   "source": [
    "print(\"MSE no Treino: {}\".format(mean_squared_error(y_train, results.predict())))"
   ]
  },
  {
   "cell_type": "code",
   "execution_count": 8,
   "id": "becoming-calcium",
   "metadata": {},
   "outputs": [
    {
     "name": "stdout",
     "output_type": "stream",
     "text": [
      "R2 no Teste: 0.5267027332737364\n",
      "MSE no Teste: 38.539857641783044\n"
     ]
    }
   ],
   "source": [
    "X_test_ = sm.add_constant(X_test[cols])\n",
    "\n",
    "print(\"R2 no Teste: {}\".format(r2_score(y_test, results.predict(X_test_))))\n",
    "print(\"MSE no Teste: {}\".format(mean_squared_error(y_test, results.predict(X_test_))))"
   ]
  },
  {
   "cell_type": "markdown",
   "id": "bottom-reverse",
   "metadata": {},
   "source": [
    "# 2.2 - Modelo Linear"
   ]
  },
  {
   "cell_type": "code",
   "execution_count": 9,
   "id": "indian-london",
   "metadata": {},
   "outputs": [
    {
     "name": "stdout",
     "output_type": "stream",
     "text": [
      "MSE no training: 19.962089480274948 +- 1.071692734938361\n",
      "MSE no validation: 21.99430996885578 +- 4.213772938343666\n",
      "r2 no training: 0.7653848730459873 +- 0.009351851630105544\n",
      "r2 no validation: 0.7377105814926351 +- 0.037821332801799556\n"
     ]
    }
   ],
   "source": [
    "# criando modelo de regressão linear\n",
    "lr = LinearRegression()\n",
    "\n",
    "# validação cruzada\n",
    "kf = KFold(n_splits=5)\n",
    "\n",
    "cross_validation(lr, kf, X_train, y_train)"
   ]
  },
  {
   "cell_type": "code",
   "execution_count": 10,
   "id": "rural-psychology",
   "metadata": {},
   "outputs": [
    {
     "name": "stdout",
     "output_type": "stream",
     "text": [
      "R2 no Teste: 0.5091943549605271\n",
      "MSE no Teste: 39.965537558332876\n"
     ]
    }
   ],
   "source": [
    "print(\"R2 no Teste: {}\".format(r2_score(y_test, lr.predict(X_test))))\n",
    "print(\"MSE no Teste: {}\".format(mean_squared_error(y_test, lr.predict(X_test))))"
   ]
  },
  {
   "cell_type": "markdown",
   "id": "ordered-messenger",
   "metadata": {},
   "source": [
    "# 2.3 - Modelo de distância"
   ]
  },
  {
   "cell_type": "code",
   "execution_count": 11,
   "id": "offshore-scanner",
   "metadata": {},
   "outputs": [
    {
     "name": "stdout",
     "output_type": "stream",
     "text": [
      "MSE no training: 14.03884660474716 +- 1.357870090244534\n",
      "MSE no validation: 20.70579271604938 +- 5.026246163328767\n",
      "r2 no training: 0.8351980911330458 +- 0.012630917380617364\n",
      "r2 no validation: 0.7565437120824658 +- 0.03503397711452812\n"
     ]
    }
   ],
   "source": [
    "knn = KNeighborsRegressor(n_neighbors=5)\n",
    "\n",
    "cross_validation(knn, kf, X_train, y_train)"
   ]
  },
  {
   "cell_type": "code",
   "execution_count": 12,
   "id": "pressed-preparation",
   "metadata": {},
   "outputs": [
    {
     "name": "stdout",
     "output_type": "stream",
     "text": [
      "R2 no Teste: 0.4950376724477026\n",
      "MSE no Teste: 41.11829411764707\n"
     ]
    }
   ],
   "source": [
    "print(\"R2 no Teste: {}\".format(r2_score(y_test, knn.predict(X_test))))\n",
    "print(\"MSE no Teste: {}\".format(mean_squared_error(y_test, knn.predict(X_test))))"
   ]
  },
  {
   "cell_type": "markdown",
   "id": "metric-academy",
   "metadata": {},
   "source": [
    "O modelo de KNN está mais overfitado que o modelo linear, pois o delta entre métricas de treino e validação ficou maior."
   ]
  },
  {
   "cell_type": "markdown",
   "id": "strategic-grave",
   "metadata": {},
   "source": [
    "# 2.4 - Modelo de árvore"
   ]
  },
  {
   "cell_type": "code",
   "execution_count": 13,
   "id": "stuffed-myrtle",
   "metadata": {},
   "outputs": [
    {
     "name": "stdout",
     "output_type": "stream",
     "text": [
      "MSE no training: 16.386198585799406 +- 0.6778800457501502\n",
      "MSE no validation: 26.6914033845927 +- 6.090645773615034\n",
      "r2 no training: 0.807246350717681 +- 0.008701552820878922\n",
      "r2 no validation: 0.6749472274089795 +- 0.09997891320406922\n"
     ]
    }
   ],
   "source": [
    "dt = DecisionTreeRegressor(max_depth=3, min_samples_leaf=5, random_state=0)\n",
    "\n",
    "cross_validation(dt, kf, X_train, y_train)"
   ]
  },
  {
   "cell_type": "code",
   "execution_count": 14,
   "id": "circular-native",
   "metadata": {},
   "outputs": [
    {
     "name": "stdout",
     "output_type": "stream",
     "text": [
      "R2 no Teste: 0.5176066160280801\n",
      "MSE no Teste: 39.28054027062085\n"
     ]
    }
   ],
   "source": [
    "print(\"R2 no Teste: {}\".format(r2_score(y_test, dt.predict(X_test))))\n",
    "print(\"MSE no Teste: {}\".format(mean_squared_error(y_test, dt.predict(X_test))))"
   ]
  },
  {
   "cell_type": "markdown",
   "id": "certain-bathroom",
   "metadata": {},
   "source": [
    "# 2.5 - Modelo de ensemble"
   ]
  },
  {
   "cell_type": "code",
   "execution_count": 15,
   "id": "talented-faculty",
   "metadata": {},
   "outputs": [
    {
     "name": "stdout",
     "output_type": "stream",
     "text": [
      "MSE no training: 11.373107019491664 +- 0.5697216919889382\n",
      "MSE no validation: 16.94212619999738 +- 3.613170463514426\n",
      "r2 no training: 0.8661262127760668 +- 0.008489118103769578\n",
      "r2 no validation: 0.7966737518859056 +- 0.043336716909563956\n"
     ]
    }
   ],
   "source": [
    "rf = RandomForestRegressor(n_estimators=500, max_depth=3, min_samples_leaf=5, random_state=0)\n",
    "\n",
    "cross_validation(rf, kf, X_train, y_train)"
   ]
  },
  {
   "cell_type": "code",
   "execution_count": 16,
   "id": "natural-baptist",
   "metadata": {},
   "outputs": [
    {
     "name": "stdout",
     "output_type": "stream",
     "text": [
      "R2 no Teste: 0.6079529967193826\n",
      "MSE no Teste: 31.923775516035974\n"
     ]
    }
   ],
   "source": [
    "print(\"R2 no Teste: {}\".format(r2_score(y_test, rf.predict(X_test))))\n",
    "print(\"MSE no Teste: {}\".format(mean_squared_error(y_test, rf.predict(X_test))))"
   ]
  },
  {
   "cell_type": "markdown",
   "id": "solar-harvest",
   "metadata": {},
   "source": [
    "O Random Forest parece ser o mais promissor. Suas métrica são superiores aos outros modelos, porém ainda overfita bastante. Vamos tentar parametrizar melhor."
   ]
  },
  {
   "cell_type": "markdown",
   "id": "peripheral-inspection",
   "metadata": {},
   "source": [
    "### Feature Importance"
   ]
  },
  {
   "cell_type": "code",
   "execution_count": 17,
   "id": "greatest-moral",
   "metadata": {},
   "outputs": [
    {
     "data": {
      "text/html": [
       "<div>\n",
       "<style scoped>\n",
       "    .dataframe tbody tr th:only-of-type {\n",
       "        vertical-align: middle;\n",
       "    }\n",
       "\n",
       "    .dataframe tbody tr th {\n",
       "        vertical-align: top;\n",
       "    }\n",
       "\n",
       "    .dataframe thead th {\n",
       "        text-align: right;\n",
       "    }\n",
       "</style>\n",
       "<table border=\"1\" class=\"dataframe\">\n",
       "  <thead>\n",
       "    <tr style=\"text-align: right;\">\n",
       "      <th></th>\n",
       "      <th>index</th>\n",
       "      <th>Importância</th>\n",
       "    </tr>\n",
       "  </thead>\n",
       "  <tbody>\n",
       "    <tr>\n",
       "      <th>12</th>\n",
       "      <td>LSTAT</td>\n",
       "      <td>0.640601</td>\n",
       "    </tr>\n",
       "    <tr>\n",
       "      <th>5</th>\n",
       "      <td>RM</td>\n",
       "      <td>0.258053</td>\n",
       "    </tr>\n",
       "    <tr>\n",
       "      <th>0</th>\n",
       "      <td>CRIM</td>\n",
       "      <td>0.048877</td>\n",
       "    </tr>\n",
       "    <tr>\n",
       "      <th>7</th>\n",
       "      <td>DIS</td>\n",
       "      <td>0.020170</td>\n",
       "    </tr>\n",
       "    <tr>\n",
       "      <th>10</th>\n",
       "      <td>PTRATIO</td>\n",
       "      <td>0.012864</td>\n",
       "    </tr>\n",
       "    <tr>\n",
       "      <th>4</th>\n",
       "      <td>NOX</td>\n",
       "      <td>0.008175</td>\n",
       "    </tr>\n",
       "    <tr>\n",
       "      <th>11</th>\n",
       "      <td>B</td>\n",
       "      <td>0.003072</td>\n",
       "    </tr>\n",
       "    <tr>\n",
       "      <th>2</th>\n",
       "      <td>INDUS</td>\n",
       "      <td>0.002772</td>\n",
       "    </tr>\n",
       "    <tr>\n",
       "      <th>9</th>\n",
       "      <td>TAX</td>\n",
       "      <td>0.002328</td>\n",
       "    </tr>\n",
       "    <tr>\n",
       "      <th>6</th>\n",
       "      <td>AGE</td>\n",
       "      <td>0.002321</td>\n",
       "    </tr>\n",
       "    <tr>\n",
       "      <th>8</th>\n",
       "      <td>RAD</td>\n",
       "      <td>0.000545</td>\n",
       "    </tr>\n",
       "    <tr>\n",
       "      <th>1</th>\n",
       "      <td>ZN</td>\n",
       "      <td>0.000222</td>\n",
       "    </tr>\n",
       "    <tr>\n",
       "      <th>3</th>\n",
       "      <td>CHAS</td>\n",
       "      <td>0.000000</td>\n",
       "    </tr>\n",
       "  </tbody>\n",
       "</table>\n",
       "</div>"
      ],
      "text/plain": [
       "      index  Importância\n",
       "12    LSTAT     0.640601\n",
       "5        RM     0.258053\n",
       "0      CRIM     0.048877\n",
       "7       DIS     0.020170\n",
       "10  PTRATIO     0.012864\n",
       "4       NOX     0.008175\n",
       "11        B     0.003072\n",
       "2     INDUS     0.002772\n",
       "9       TAX     0.002328\n",
       "6       AGE     0.002321\n",
       "8       RAD     0.000545\n",
       "1        ZN     0.000222\n",
       "3      CHAS     0.000000"
      ]
     },
     "execution_count": 17,
     "metadata": {},
     "output_type": "execute_result"
    }
   ],
   "source": [
    "pd.DataFrame(\n",
    "    data = rf.feature_importances_, \n",
    "    index = X_train.columns,\n",
    "    columns=['Importância']\n",
    ").reset_index().sort_values(by='Importância', ascending=False)"
   ]
  },
  {
   "cell_type": "markdown",
   "id": "abstract-measurement",
   "metadata": {},
   "source": [
    "# 3 - Hiperparametrização"
   ]
  },
  {
   "cell_type": "markdown",
   "id": "equipped-warning",
   "metadata": {},
   "source": [
    "## 3.1- GridSearchCV"
   ]
  },
  {
   "cell_type": "code",
   "execution_count": 18,
   "id": "cathedral-shelf",
   "metadata": {},
   "outputs": [],
   "source": [
    "# Definindo grid para busca\n",
    "params_grid = {\n",
    "    'n_estimators': [100, 300, 600, 1000],\n",
    "    'max_features': ['auto'],\n",
    "    'max_depth': [2,3],\n",
    "    'min_samples_split': [2, 5, 10],\n",
    "    'min_samples_leaf': [1, 2, 4],\n",
    "    'bootstrap': [True]\n",
    "}\n",
    "\n",
    "# criando nosso modelo de grid search\n",
    "gridsearch_model = GridSearchCV(\n",
    "    estimator = rf, \n",
    "    param_grid = params_grid,\n",
    "    scoring = 'neg_mean_absolute_error',\n",
    "    n_jobs = -1,\n",
    "    cv = 5,\n",
    "    verbose = 2\n",
    ")"
   ]
  },
  {
   "cell_type": "code",
   "execution_count": 19,
   "id": "numerical-option",
   "metadata": {},
   "outputs": [
    {
     "name": "stdout",
     "output_type": "stream",
     "text": [
      "Fitting 5 folds for each of 72 candidates, totalling 360 fits\n",
      "CPU times: user 3.15 s, sys: 170 ms, total: 3.32 s\n",
      "Wall time: 2min 23s\n"
     ]
    },
    {
     "data": {
      "text/plain": [
       "GridSearchCV(cv=5,\n",
       "             estimator=RandomForestRegressor(max_depth=3, min_samples_leaf=5,\n",
       "                                             n_estimators=500, random_state=0),\n",
       "             n_jobs=-1,\n",
       "             param_grid={'bootstrap': [True], 'max_depth': [2, 3],\n",
       "                         'max_features': ['auto'],\n",
       "                         'min_samples_leaf': [1, 2, 4],\n",
       "                         'min_samples_split': [2, 5, 10],\n",
       "                         'n_estimators': [100, 300, 600, 1000]},\n",
       "             scoring='neg_mean_absolute_error', verbose=2)"
      ]
     },
     "execution_count": 19,
     "metadata": {},
     "output_type": "execute_result"
    }
   ],
   "source": [
    "%time gridsearch_model.fit(X_train, y_train)"
   ]
  },
  {
   "cell_type": "code",
   "execution_count": 20,
   "id": "compressed-segment",
   "metadata": {},
   "outputs": [
    {
     "name": "stdout",
     "output_type": "stream",
     "text": [
      "Melhores parâmetros: \n",
      "{'bootstrap': True, 'max_depth': 3, 'max_features': 'auto', 'min_samples_leaf': 4, 'min_samples_split': 2, 'n_estimators': 600}\n"
     ]
    }
   ],
   "source": [
    "print('Melhores parâmetros: ')\n",
    "print(gridsearch_model.best_params_)"
   ]
  },
  {
   "cell_type": "code",
   "execution_count": 21,
   "id": "funky-township",
   "metadata": {},
   "outputs": [],
   "source": [
    "best_grid_rf = gridsearch_model.best_estimator_"
   ]
  },
  {
   "cell_type": "markdown",
   "id": "underlying-mambo",
   "metadata": {},
   "source": [
    "## 3.2 - RandomSearchCV"
   ]
  },
  {
   "cell_type": "code",
   "execution_count": 22,
   "id": "undefined-footwear",
   "metadata": {},
   "outputs": [],
   "source": [
    "# Definindo grid para busca\n",
    "params_grid = {\n",
    "    'n_estimators': [100, 300, 600, 1000],\n",
    "    'max_features': ['auto'],\n",
    "    'max_depth': [2,3],\n",
    "    'min_samples_split': [2, 5, 10],\n",
    "    'min_samples_leaf': [1, 2, 4],\n",
    "    'bootstrap': [True]\n",
    "}\n",
    "\n",
    "# criando nosso modelo de grid search\n",
    "randomsearch_model = RandomizedSearchCV(\n",
    "    estimator = rf, \n",
    "    param_distributions = params_grid,\n",
    "    scoring = 'neg_mean_absolute_error',\n",
    "    n_jobs = -1,\n",
    "    cv = 5,\n",
    "    verbose = 2\n",
    ")"
   ]
  },
  {
   "cell_type": "code",
   "execution_count": 23,
   "id": "constant-cartridge",
   "metadata": {},
   "outputs": [
    {
     "name": "stdout",
     "output_type": "stream",
     "text": [
      "Fitting 5 folds for each of 10 candidates, totalling 50 fits\n",
      "CPU times: user 1.27 s, sys: 23.4 ms, total: 1.29 s\n",
      "Wall time: 25.2 s\n"
     ]
    },
    {
     "data": {
      "text/plain": [
       "RandomizedSearchCV(cv=5,\n",
       "                   estimator=RandomForestRegressor(max_depth=3,\n",
       "                                                   min_samples_leaf=5,\n",
       "                                                   n_estimators=500,\n",
       "                                                   random_state=0),\n",
       "                   n_jobs=-1,\n",
       "                   param_distributions={'bootstrap': [True],\n",
       "                                        'max_depth': [2, 3],\n",
       "                                        'max_features': ['auto'],\n",
       "                                        'min_samples_leaf': [1, 2, 4],\n",
       "                                        'min_samples_split': [2, 5, 10],\n",
       "                                        'n_estimators': [100, 300, 600, 1000]},\n",
       "                   scoring='neg_mean_absolute_error', verbose=2)"
      ]
     },
     "execution_count": 23,
     "metadata": {},
     "output_type": "execute_result"
    }
   ],
   "source": [
    "%time randomsearch_model.fit(X_train, y_train)"
   ]
  },
  {
   "cell_type": "code",
   "execution_count": 24,
   "id": "trained-interview",
   "metadata": {},
   "outputs": [
    {
     "name": "stdout",
     "output_type": "stream",
     "text": [
      "Melhores parâmetros: \n",
      "{'n_estimators': 600, 'min_samples_split': 5, 'min_samples_leaf': 4, 'max_features': 'auto', 'max_depth': 3, 'bootstrap': True}\n"
     ]
    }
   ],
   "source": [
    "print('Melhores parâmetros: ')\n",
    "print(randomsearch_model.best_params_)"
   ]
  },
  {
   "cell_type": "code",
   "execution_count": 25,
   "id": "wound-psychology",
   "metadata": {},
   "outputs": [],
   "source": [
    "best_random_rf = randomsearch_model.best_estimator_"
   ]
  },
  {
   "cell_type": "markdown",
   "id": "bizarre-candy",
   "metadata": {},
   "source": [
    "## 3.3 - Resultados"
   ]
  },
  {
   "cell_type": "markdown",
   "id": "infrared-plate",
   "metadata": {},
   "source": [
    "### GridSearchCV"
   ]
  },
  {
   "cell_type": "code",
   "execution_count": 26,
   "id": "wooden-guyana",
   "metadata": {},
   "outputs": [
    {
     "name": "stdout",
     "output_type": "stream",
     "text": [
      "R2 no conjunto de testes: 0.6192167737243803\n",
      "Mean squared error no conjunto de testes: 31.006583736577696\n"
     ]
    }
   ],
   "source": [
    "y_pred_test = best_grid_rf.predict(X_test)\n",
    "\n",
    "print(\"R2 no conjunto de testes: {}\".format(r2_score(y_test, y_pred_test)))\n",
    "print(\"Mean squared error no conjunto de testes: {}\".format(mean_squared_error(y_test, y_pred_test)))"
   ]
  },
  {
   "cell_type": "code",
   "execution_count": 27,
   "id": "least-effort",
   "metadata": {},
   "outputs": [
    {
     "data": {
      "text/plain": [
       "0.8644858137977192"
      ]
     },
     "execution_count": 27,
     "metadata": {},
     "output_type": "execute_result"
    }
   ],
   "source": [
    "best_grid_rf.score(X_train, y_train)"
   ]
  },
  {
   "cell_type": "code",
   "execution_count": 28,
   "id": "short-review",
   "metadata": {},
   "outputs": [
    {
     "name": "stdout",
     "output_type": "stream",
     "text": [
      "MSE no training: 11.113872059373865 +- 0.5600235815238439\n",
      "MSE no validation: 16.88456016260671 +- 3.5066504235171\n",
      "r2 no training: 0.8691717412083634 +- 0.008393589005525585\n",
      "r2 no validation: 0.7971288043354241 +- 0.043633880561391204\n"
     ]
    }
   ],
   "source": [
    "cross_validation(best_grid_rf, kf, X_train, y_train)"
   ]
  },
  {
   "cell_type": "markdown",
   "id": "exempt-egypt",
   "metadata": {},
   "source": [
    "### RandomSearchCV"
   ]
  },
  {
   "cell_type": "code",
   "execution_count": 29,
   "id": "objective-vault",
   "metadata": {},
   "outputs": [
    {
     "name": "stdout",
     "output_type": "stream",
     "text": [
      "R2 no conjunto de testes: 0.6192167737243803\n",
      "Mean squared error no conjunto de testes: 31.006583736577696\n"
     ]
    }
   ],
   "source": [
    "y_pred_test = best_random_rf.predict(X_test)\n",
    "\n",
    "print(\"R2 no conjunto de testes: {}\".format(r2_score(y_test, y_pred_test)))\n",
    "print(\"Mean squared error no conjunto de testes: {}\".format(mean_squared_error(y_test, y_pred_test)))"
   ]
  },
  {
   "cell_type": "code",
   "execution_count": 30,
   "id": "crucial-willow",
   "metadata": {},
   "outputs": [
    {
     "data": {
      "text/plain": [
       "0.8644858137977192"
      ]
     },
     "execution_count": 30,
     "metadata": {},
     "output_type": "execute_result"
    }
   ],
   "source": [
    "best_random_rf.score(X_train, y_train)"
   ]
  },
  {
   "cell_type": "code",
   "execution_count": 31,
   "id": "continued-eleven",
   "metadata": {},
   "outputs": [
    {
     "name": "stdout",
     "output_type": "stream",
     "text": [
      "MSE no training: 11.113872059373865 +- 0.5600235815238439\n",
      "MSE no validation: 16.88456016260671 +- 3.5066504235171\n",
      "r2 no training: 0.8691717412083634 +- 0.008393589005525585\n",
      "r2 no validation: 0.7971288043354241 +- 0.043633880561391204\n"
     ]
    }
   ],
   "source": [
    "cross_validation(best_random_rf, kf, X_train, y_train)"
   ]
  },
  {
   "cell_type": "markdown",
   "id": "passive-tutorial",
   "metadata": {},
   "source": [
    "# 4 - Seleção de variáveis"
   ]
  },
  {
   "cell_type": "markdown",
   "id": "racial-sport",
   "metadata": {},
   "source": [
    "### Recursive Feature Elimination"
   ]
  },
  {
   "cell_type": "code",
   "execution_count": 32,
   "id": "lined-parade",
   "metadata": {},
   "outputs": [],
   "source": [
    "selector = RFE(rf, n_features_to_select=6, step=1)\n",
    "selector = selector.fit(X_train, y_train)"
   ]
  },
  {
   "cell_type": "code",
   "execution_count": 33,
   "id": "convertible-contest",
   "metadata": {},
   "outputs": [],
   "source": [
    "mascara_best_features = selector.support_\n",
    "\n",
    "X_train_rfe = X_train.loc[:, mascara_best_features].copy()\n",
    "X_test_rfe = X_test.loc[:, mascara_best_features].copy()"
   ]
  },
  {
   "cell_type": "code",
   "execution_count": 34,
   "id": "compact-acquisition",
   "metadata": {},
   "outputs": [
    {
     "name": "stdout",
     "output_type": "stream",
     "text": [
      "MSE no training: 11.665915780101601 +- 0.6454513239937704\n",
      "MSE no validation: 16.799226123776492 +- 3.846162236338197\n",
      "r2 no training: 0.8626996112657814 +- 0.009026419940651304\n",
      "r2 no validation: 0.7983273998273799 +- 0.0461260867376871\n"
     ]
    }
   ],
   "source": [
    "cross_validation(rf, kf, X_train_rfe, y_train)"
   ]
  },
  {
   "cell_type": "code",
   "execution_count": 35,
   "id": "obvious-overall",
   "metadata": {},
   "outputs": [
    {
     "name": "stdout",
     "output_type": "stream",
     "text": [
      "R2 no conjunto de testes: 0.610362894321099\n",
      "Mean squared error no conjunto de testes: 31.727541316029193\n"
     ]
    }
   ],
   "source": [
    "print(\"R2 no conjunto de testes: {}\".format(r2_score(y_test, rf.predict(X_test_rfe))))\n",
    "print(\"Mean squared error no conjunto de testes: {}\".format(mean_squared_error(y_test, rf.predict(X_test_rfe))))"
   ]
  },
  {
   "cell_type": "markdown",
   "id": "floral-curve",
   "metadata": {},
   "source": [
    "### Boruta\n",
    "\n",
    "[link](https://towardsdatascience.com/boruta-explained-the-way-i-wish-someone-explained-it-to-me-4489d70e154a) com a técnica"
   ]
  },
  {
   "cell_type": "code",
   "execution_count": 36,
   "id": "ancient-single",
   "metadata": {},
   "outputs": [
    {
     "name": "stdout",
     "output_type": "stream",
     "text": [
      "features in the green area: ['CRIM', 'INDUS', 'NOX', 'RM', 'AGE', 'DIS', 'PTRATIO', 'LSTAT']\n",
      "features in the blue area: ['TAX']\n"
     ]
    }
   ],
   "source": [
    "from boruta import BorutaPy\n",
    "\n",
    "# inicializando boruta\n",
    "boruta = BorutaPy(\n",
    "    estimator = rf, \n",
    "    n_estimators = 'auto',\n",
    "    max_iter = 100,\n",
    "    random_state = 0\n",
    ")\n",
    "\n",
    "# Selecionando as variáveis\n",
    "boruta.fit(np.array(X_train), np.array(y_train))\n",
    "\n",
    "### print results\n",
    "green_area = X_train.columns[boruta.support_].to_list()\n",
    "blue_area = X_train.columns[boruta.support_weak_].to_list()\n",
    "print('features in the green area:', green_area)\n",
    "print('features in the blue area:', blue_area)"
   ]
  },
  {
   "cell_type": "code",
   "execution_count": 37,
   "id": "agricultural-pillow",
   "metadata": {},
   "outputs": [],
   "source": [
    "X_train_boruta = X_train[green_area].copy()\n",
    "X_test_boruta = X_test[green_area].copy()"
   ]
  },
  {
   "cell_type": "code",
   "execution_count": 38,
   "id": "later-victim",
   "metadata": {},
   "outputs": [
    {
     "name": "stdout",
     "output_type": "stream",
     "text": [
      "MSE no training: 11.444855815803582 +- 0.5708118091560461\n",
      "MSE no validation: 16.835443526170693 +- 3.654608159594576\n",
      "r2 no training: 0.8652371712019168 +- 0.009164146573972225\n",
      "r2 no validation: 0.797828369113866 +- 0.044445910304314946\n"
     ]
    }
   ],
   "source": [
    "cross_validation(rf, kf, X_train_boruta, y_train)"
   ]
  },
  {
   "cell_type": "code",
   "execution_count": 39,
   "id": "healthy-trading",
   "metadata": {},
   "outputs": [
    {
     "name": "stdout",
     "output_type": "stream",
     "text": [
      "R2 no conjunto de testes: 0.6053992657945666\n",
      "Mean squared error no conjunto de testes: 32.13172183902785\n"
     ]
    }
   ],
   "source": [
    "print(\"R2 no conjunto de testes: {}\".format(r2_score(y_test, rf.predict(X_test_boruta))))\n",
    "print(\"Mean squared error no conjunto de testes: {}\".format(mean_squared_error(y_test, rf.predict(X_test_boruta))))"
   ]
  },
  {
   "cell_type": "markdown",
   "id": "ambient-strike",
   "metadata": {},
   "source": [
    "# 5 - Conclusões"
   ]
  },
  {
   "cell_type": "code",
   "execution_count": 40,
   "id": "adopted-level",
   "metadata": {},
   "outputs": [
    {
     "data": {
      "text/html": [
       "<div>\n",
       "<style scoped>\n",
       "    .dataframe tbody tr th:only-of-type {\n",
       "        vertical-align: middle;\n",
       "    }\n",
       "\n",
       "    .dataframe tbody tr th {\n",
       "        vertical-align: top;\n",
       "    }\n",
       "\n",
       "    .dataframe thead th {\n",
       "        text-align: right;\n",
       "    }\n",
       "</style>\n",
       "<table border=\"1\" class=\"dataframe\">\n",
       "  <thead>\n",
       "    <tr style=\"text-align: right;\">\n",
       "      <th></th>\n",
       "      <th>MSE_training</th>\n",
       "      <th>MSE_validation</th>\n",
       "      <th>MSE_test</th>\n",
       "      <th>R2_training</th>\n",
       "      <th>R2_validation</th>\n",
       "      <th>R2_test</th>\n",
       "    </tr>\n",
       "  </thead>\n",
       "  <tbody>\n",
       "    <tr>\n",
       "      <th>OLS</th>\n",
       "      <td>20.17</td>\n",
       "      <td>-</td>\n",
       "      <td>38.53</td>\n",
       "      <td>0.76</td>\n",
       "      <td>-</td>\n",
       "      <td>0.52</td>\n",
       "    </tr>\n",
       "    <tr>\n",
       "      <th>Modelo_linear</th>\n",
       "      <td>19.96</td>\n",
       "      <td>21.99</td>\n",
       "      <td>39.96</td>\n",
       "      <td>0.76</td>\n",
       "      <td>0.73</td>\n",
       "      <td>0.50</td>\n",
       "    </tr>\n",
       "    <tr>\n",
       "      <th>Modelo_distancia</th>\n",
       "      <td>14.03</td>\n",
       "      <td>20.7</td>\n",
       "      <td>41.11</td>\n",
       "      <td>0.83</td>\n",
       "      <td>0.75</td>\n",
       "      <td>0.49</td>\n",
       "    </tr>\n",
       "    <tr>\n",
       "      <th>Modelo_arvore</th>\n",
       "      <td>16.38</td>\n",
       "      <td>26.69</td>\n",
       "      <td>39.28</td>\n",
       "      <td>0.80</td>\n",
       "      <td>0.67</td>\n",
       "      <td>0.51</td>\n",
       "    </tr>\n",
       "    <tr>\n",
       "      <th>Modelo_ensemble</th>\n",
       "      <td>11.37</td>\n",
       "      <td>16.94</td>\n",
       "      <td>31.92</td>\n",
       "      <td>0.86</td>\n",
       "      <td>0.79</td>\n",
       "      <td>0.60</td>\n",
       "    </tr>\n",
       "  </tbody>\n",
       "</table>\n",
       "</div>"
      ],
      "text/plain": [
       "                  MSE_training MSE_validation  MSE_test  R2_training  \\\n",
       "OLS                      20.17              -     38.53         0.76   \n",
       "Modelo_linear            19.96          21.99     39.96         0.76   \n",
       "Modelo_distancia         14.03           20.7     41.11         0.83   \n",
       "Modelo_arvore            16.38          26.69     39.28         0.80   \n",
       "Modelo_ensemble          11.37          16.94     31.92         0.86   \n",
       "\n",
       "                 R2_validation  R2_test  \n",
       "OLS                          -     0.52  \n",
       "Modelo_linear             0.73     0.50  \n",
       "Modelo_distancia          0.75     0.49  \n",
       "Modelo_arvore             0.67     0.51  \n",
       "Modelo_ensemble           0.79     0.60  "
      ]
     },
     "execution_count": 40,
     "metadata": {},
     "output_type": "execute_result"
    }
   ],
   "source": [
    "pd.DataFrame(\n",
    "    {\n",
    "        'MSE_training':[20.17, 19.96, 14.03, 16.38, 11.37],\n",
    "        'MSE_validation':['-', 21.99, 20.70, 26.69, 16.94],\n",
    "        'MSE_test':[38.53, 39.96, 41.11, 39.28, 31.92],\n",
    "        'R2_training':[0.76, 0.76, 0.83, 0.80, 0.86],\n",
    "        'R2_validation':['-',0.73, 0.75, 0.67, 0.79],\n",
    "        'R2_test':[0.52, 0.50, 0.49, 0.51, 0.60]\n",
    "    },\n",
    "    index=['OLS','Modelo_linear', 'Modelo_distancia', 'Modelo_arvore', 'Modelo_ensemble']\n",
    ")"
   ]
  },
  {
   "cell_type": "markdown",
   "id": "spoken-wings",
   "metadata": {},
   "source": [
    "\n",
    "\n",
    "- testamos alguns modelos:\n",
    "    - linear regression\n",
    "    - knn\n",
    "    - decision tree\n",
    "    - random forest\n",
    "- avaliamos em validação cruzada\n",
    "- testamos otimização de hiperparâmetros\n",
    "    - grid search\n",
    "    - random search\n",
    "- testamos seleção de variáveis\n",
    "    - RFE\n",
    "    - Boruta\n",
    "    \n",
    "- Concluimos que o melhor modelo encontrado ainda assim overfita\n",
    "- Dentro os modelos testados, o que menos overfitou foi o RF\n",
    "- Portanto, na escolha do melhor modelo, escolheria o RF"
   ]
  },
  {
   "cell_type": "code",
   "execution_count": null,
   "id": "billion-harrison",
   "metadata": {},
   "outputs": [],
   "source": []
  }
 ],
 "metadata": {
  "kernelspec": {
   "display_name": "Python 3",
   "language": "python",
   "name": "python3"
  },
  "language_info": {
   "codemirror_mode": {
    "name": "ipython",
    "version": 3
   },
   "file_extension": ".py",
   "mimetype": "text/x-python",
   "name": "python",
   "nbconvert_exporter": "python",
   "pygments_lexer": "ipython3",
   "version": "3.7.3"
  }
 },
 "nbformat": 4,
 "nbformat_minor": 5
}
